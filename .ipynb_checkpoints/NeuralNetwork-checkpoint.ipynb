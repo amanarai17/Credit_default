{
 "cells": [
  {
   "cell_type": "code",
   "execution_count": 1,
   "metadata": {},
   "outputs": [
    {
     "name": "stderr",
     "output_type": "stream",
     "text": [
      "Using TensorFlow backend.\n"
     ]
    }
   ],
   "source": [
    "from sklearn.model_selection import train_test_split\n",
    "import pandas as pd\n",
    "import numpy as np\n",
    "from sklearn.preprocessing import StandardScaler\n",
    "from keras.utils import to_categorical\n",
    "from keras.models import Sequential\n",
    "from keras.layers import Dense"
   ]
  },
  {
   "cell_type": "code",
   "execution_count": 2,
   "metadata": {},
   "outputs": [
    {
     "data": {
      "text/html": [
       "<div>\n",
       "<style>\n",
       "    .dataframe thead tr:only-child th {\n",
       "        text-align: right;\n",
       "    }\n",
       "\n",
       "    .dataframe thead th {\n",
       "        text-align: left;\n",
       "    }\n",
       "\n",
       "    .dataframe tbody tr th {\n",
       "        vertical-align: top;\n",
       "    }\n",
       "</style>\n",
       "<table border=\"1\" class=\"dataframe\">\n",
       "  <thead>\n",
       "    <tr style=\"text-align: right;\">\n",
       "      <th></th>\n",
       "      <th>LIMIT_BAL</th>\n",
       "      <th>SEX</th>\n",
       "      <th>EDUCATION</th>\n",
       "      <th>MARRIAGE</th>\n",
       "      <th>AGE</th>\n",
       "      <th>PAY_0</th>\n",
       "      <th>PAY_2</th>\n",
       "      <th>PAY_3</th>\n",
       "      <th>PAY_4</th>\n",
       "      <th>PAY_5</th>\n",
       "      <th>...</th>\n",
       "      <th>BILL_AMT4</th>\n",
       "      <th>BILL_AMT5</th>\n",
       "      <th>BILL_AMT6</th>\n",
       "      <th>PAY_AMT1</th>\n",
       "      <th>PAY_AMT2</th>\n",
       "      <th>PAY_AMT3</th>\n",
       "      <th>PAY_AMT4</th>\n",
       "      <th>PAY_AMT5</th>\n",
       "      <th>PAY_AMT6</th>\n",
       "      <th>Y_Value</th>\n",
       "    </tr>\n",
       "  </thead>\n",
       "  <tbody>\n",
       "    <tr>\n",
       "      <th>0</th>\n",
       "      <td>20000</td>\n",
       "      <td>2</td>\n",
       "      <td>2</td>\n",
       "      <td>1</td>\n",
       "      <td>24</td>\n",
       "      <td>2</td>\n",
       "      <td>2</td>\n",
       "      <td>-1</td>\n",
       "      <td>-1</td>\n",
       "      <td>-2</td>\n",
       "      <td>...</td>\n",
       "      <td>0</td>\n",
       "      <td>0</td>\n",
       "      <td>0</td>\n",
       "      <td>0</td>\n",
       "      <td>689</td>\n",
       "      <td>0</td>\n",
       "      <td>0</td>\n",
       "      <td>0</td>\n",
       "      <td>0</td>\n",
       "      <td>1</td>\n",
       "    </tr>\n",
       "    <tr>\n",
       "      <th>1</th>\n",
       "      <td>120000</td>\n",
       "      <td>2</td>\n",
       "      <td>2</td>\n",
       "      <td>2</td>\n",
       "      <td>26</td>\n",
       "      <td>-1</td>\n",
       "      <td>2</td>\n",
       "      <td>0</td>\n",
       "      <td>0</td>\n",
       "      <td>0</td>\n",
       "      <td>...</td>\n",
       "      <td>3272</td>\n",
       "      <td>3455</td>\n",
       "      <td>3261</td>\n",
       "      <td>0</td>\n",
       "      <td>1000</td>\n",
       "      <td>1000</td>\n",
       "      <td>1000</td>\n",
       "      <td>0</td>\n",
       "      <td>2000</td>\n",
       "      <td>1</td>\n",
       "    </tr>\n",
       "    <tr>\n",
       "      <th>2</th>\n",
       "      <td>90000</td>\n",
       "      <td>2</td>\n",
       "      <td>2</td>\n",
       "      <td>2</td>\n",
       "      <td>34</td>\n",
       "      <td>0</td>\n",
       "      <td>0</td>\n",
       "      <td>0</td>\n",
       "      <td>0</td>\n",
       "      <td>0</td>\n",
       "      <td>...</td>\n",
       "      <td>14331</td>\n",
       "      <td>14948</td>\n",
       "      <td>15549</td>\n",
       "      <td>1518</td>\n",
       "      <td>1500</td>\n",
       "      <td>1000</td>\n",
       "      <td>1000</td>\n",
       "      <td>1000</td>\n",
       "      <td>5000</td>\n",
       "      <td>0</td>\n",
       "    </tr>\n",
       "    <tr>\n",
       "      <th>3</th>\n",
       "      <td>50000</td>\n",
       "      <td>2</td>\n",
       "      <td>2</td>\n",
       "      <td>1</td>\n",
       "      <td>37</td>\n",
       "      <td>0</td>\n",
       "      <td>0</td>\n",
       "      <td>0</td>\n",
       "      <td>0</td>\n",
       "      <td>0</td>\n",
       "      <td>...</td>\n",
       "      <td>28314</td>\n",
       "      <td>28959</td>\n",
       "      <td>29547</td>\n",
       "      <td>2000</td>\n",
       "      <td>2019</td>\n",
       "      <td>1200</td>\n",
       "      <td>1100</td>\n",
       "      <td>1069</td>\n",
       "      <td>1000</td>\n",
       "      <td>0</td>\n",
       "    </tr>\n",
       "    <tr>\n",
       "      <th>4</th>\n",
       "      <td>50000</td>\n",
       "      <td>1</td>\n",
       "      <td>2</td>\n",
       "      <td>1</td>\n",
       "      <td>57</td>\n",
       "      <td>-1</td>\n",
       "      <td>0</td>\n",
       "      <td>-1</td>\n",
       "      <td>0</td>\n",
       "      <td>0</td>\n",
       "      <td>...</td>\n",
       "      <td>20940</td>\n",
       "      <td>19146</td>\n",
       "      <td>19131</td>\n",
       "      <td>2000</td>\n",
       "      <td>36681</td>\n",
       "      <td>10000</td>\n",
       "      <td>9000</td>\n",
       "      <td>689</td>\n",
       "      <td>679</td>\n",
       "      <td>0</td>\n",
       "    </tr>\n",
       "  </tbody>\n",
       "</table>\n",
       "<p>5 rows × 24 columns</p>\n",
       "</div>"
      ],
      "text/plain": [
       "   LIMIT_BAL  SEX  EDUCATION  MARRIAGE  AGE  PAY_0  PAY_2  PAY_3  PAY_4  \\\n",
       "0      20000    2          2         1   24      2      2     -1     -1   \n",
       "1     120000    2          2         2   26     -1      2      0      0   \n",
       "2      90000    2          2         2   34      0      0      0      0   \n",
       "3      50000    2          2         1   37      0      0      0      0   \n",
       "4      50000    1          2         1   57     -1      0     -1      0   \n",
       "\n",
       "   PAY_5   ...     BILL_AMT4  BILL_AMT5  BILL_AMT6  PAY_AMT1  PAY_AMT2  \\\n",
       "0     -2   ...             0          0          0         0       689   \n",
       "1      0   ...          3272       3455       3261         0      1000   \n",
       "2      0   ...         14331      14948      15549      1518      1500   \n",
       "3      0   ...         28314      28959      29547      2000      2019   \n",
       "4      0   ...         20940      19146      19131      2000     36681   \n",
       "\n",
       "   PAY_AMT3  PAY_AMT4  PAY_AMT5  PAY_AMT6  Y_Value  \n",
       "0         0         0         0         0        1  \n",
       "1      1000      1000         0      2000        1  \n",
       "2      1000      1000      1000      5000        0  \n",
       "3      1200      1100      1069      1000        0  \n",
       "4     10000      9000       689       679        0  \n",
       "\n",
       "[5 rows x 24 columns]"
      ]
     },
     "execution_count": 2,
     "metadata": {},
     "output_type": "execute_result"
    }
   ],
   "source": [
    "df = pd.read_csv(\"original_data.csv\")\n",
    "df.head()"
   ]
  },
  {
   "cell_type": "code",
   "execution_count": 3,
   "metadata": {},
   "outputs": [
    {
     "name": "stdout",
     "output_type": "stream",
     "text": [
      "(30000, 23)\n",
      "(30000,)\n"
     ]
    }
   ],
   "source": [
    "X = df.drop('Y_Value',axis =1).values\n",
    "y = df['Y_Value'].values\n",
    "# X = df.drop('DEFAULT_PAYMENT_NEXT_MO',axis =1).values\n",
    "# y = df['DEFAULT_PAYMENT_NEXT_MO'].values\n",
    "print(X.shape)\n",
    "print(y.shape)"
   ]
  },
  {
   "cell_type": "code",
   "execution_count": 4,
   "metadata": {
    "collapsed": true
   },
   "outputs": [],
   "source": [
    "X_train, X_test, y_train, y_test = train_test_split (X,y,random_state=1)"
   ]
  },
  {
   "cell_type": "code",
   "execution_count": 5,
   "metadata": {},
   "outputs": [
    {
     "name": "stderr",
     "output_type": "stream",
     "text": [
      "/Users/mindynix/anaconda3/lib/python3.6/site-packages/sklearn/utils/validation.py:475: DataConversionWarning: Data with input dtype int64 was converted to float64 by StandardScaler.\n",
      "  warnings.warn(msg, DataConversionWarning)\n"
     ]
    }
   ],
   "source": [
    "from sklearn.preprocessing import StandardScaler\n",
    "\n",
    "X_scaler = StandardScaler().fit(X_train)"
   ]
  },
  {
   "cell_type": "code",
   "execution_count": 6,
   "metadata": {},
   "outputs": [
    {
     "name": "stderr",
     "output_type": "stream",
     "text": [
      "/Users/mindynix/anaconda3/lib/python3.6/site-packages/sklearn/utils/validation.py:475: DataConversionWarning: Data with input dtype int64 was converted to float64 by StandardScaler.\n",
      "  warnings.warn(msg, DataConversionWarning)\n"
     ]
    }
   ],
   "source": [
    "X_train_scaled = X_scaler.transform(X_train)\n",
    "X_test_scaled = X_scaler.transform(X_test)"
   ]
  },
  {
   "cell_type": "code",
   "execution_count": 7,
   "metadata": {
    "collapsed": true
   },
   "outputs": [],
   "source": [
    "y_train_categorical = to_categorical(y_train)\n",
    "y_test_categorical = to_categorical(y_test)"
   ]
  },
  {
   "cell_type": "code",
   "execution_count": 8,
   "metadata": {
    "collapsed": true
   },
   "outputs": [],
   "source": [
    "from keras.models import Sequential\n",
    "\n",
    "#instantiate\n",
    "model = Sequential()"
   ]
  },
  {
   "cell_type": "code",
   "execution_count": 9,
   "metadata": {
    "collapsed": true
   },
   "outputs": [],
   "source": [
    "from keras.layers import Dense\n",
    "\n",
    "number_inputs = 23\n",
    "number_hidden = 69\n",
    "\n",
    "model.add(Dense(units = number_hidden, activation ='relu', input_dim=number_inputs))\n",
    "model.add(Dense(units = 10, activation ='relu')) #second hidden layer"
   ]
  },
  {
   "cell_type": "code",
   "execution_count": 10,
   "metadata": {
    "collapsed": true
   },
   "outputs": [],
   "source": [
    "number_classes =2 ## yes or no\n",
    "model.add(Dense(units = number_classes, activation = 'softmax'))"
   ]
  },
  {
   "cell_type": "code",
   "execution_count": 11,
   "metadata": {},
   "outputs": [
    {
     "name": "stdout",
     "output_type": "stream",
     "text": [
      "_________________________________________________________________\n",
      "Layer (type)                 Output Shape              Param #   \n",
      "=================================================================\n",
      "dense_1 (Dense)              (None, 69)                1656      \n",
      "_________________________________________________________________\n",
      "dense_2 (Dense)              (None, 10)                700       \n",
      "_________________________________________________________________\n",
      "dense_3 (Dense)              (None, 2)                 22        \n",
      "=================================================================\n",
      "Total params: 2,378\n",
      "Trainable params: 2,378\n",
      "Non-trainable params: 0\n",
      "_________________________________________________________________\n"
     ]
    }
   ],
   "source": [
    "model.summary()"
   ]
  },
  {
   "cell_type": "code",
   "execution_count": 12,
   "metadata": {
    "collapsed": true
   },
   "outputs": [],
   "source": [
    "#compile the model\n",
    "model.compile(optimizer = 'adam' ,\n",
    "             loss = 'categorical_crossentropy',\n",
    "             metrics =['accuracy'])"
   ]
  },
  {
   "cell_type": "code",
   "execution_count": 13,
   "metadata": {},
   "outputs": [
    {
     "name": "stdout",
     "output_type": "stream",
     "text": [
      "Epoch 1/100\n",
      " - 2s - loss: 0.4738 - acc: 0.8063\n",
      "Epoch 2/100\n",
      " - 1s - loss: 0.4413 - acc: 0.8183\n",
      "Epoch 3/100\n",
      " - 1s - loss: 0.4361 - acc: 0.8204\n",
      "Epoch 4/100\n",
      " - 1s - loss: 0.4328 - acc: 0.8210\n",
      "Epoch 5/100\n",
      " - 1s - loss: 0.4292 - acc: 0.8213\n",
      "Epoch 6/100\n",
      " - 1s - loss: 0.4275 - acc: 0.8219\n",
      "Epoch 7/100\n",
      " - 1s - loss: 0.4264 - acc: 0.8220\n",
      "Epoch 8/100\n",
      " - 1s - loss: 0.4254 - acc: 0.8242\n",
      "Epoch 9/100\n",
      " - 1s - loss: 0.4234 - acc: 0.8230\n",
      "Epoch 10/100\n",
      " - 1s - loss: 0.4233 - acc: 0.8236\n",
      "Epoch 11/100\n",
      " - 1s - loss: 0.4219 - acc: 0.8249\n",
      "Epoch 12/100\n",
      " - 1s - loss: 0.4210 - acc: 0.8258\n",
      "Epoch 13/100\n",
      " - 1s - loss: 0.4202 - acc: 0.8249\n",
      "Epoch 14/100\n",
      " - 1s - loss: 0.4199 - acc: 0.8243\n",
      "Epoch 15/100\n",
      " - 2s - loss: 0.4189 - acc: 0.8252\n",
      "Epoch 16/100\n",
      " - 3s - loss: 0.4179 - acc: 0.8252\n",
      "Epoch 17/100\n",
      " - 2s - loss: 0.4163 - acc: 0.8256\n",
      "Epoch 18/100\n",
      " - 1s - loss: 0.4158 - acc: 0.8261\n",
      "Epoch 19/100\n",
      " - 1s - loss: 0.4162 - acc: 0.8249\n",
      "Epoch 20/100\n",
      " - 1s - loss: 0.4158 - acc: 0.8254\n",
      "Epoch 21/100\n",
      " - 1s - loss: 0.4145 - acc: 0.8269\n",
      "Epoch 22/100\n",
      " - 1s - loss: 0.4138 - acc: 0.8271\n",
      "Epoch 23/100\n",
      " - 1s - loss: 0.4138 - acc: 0.8271\n",
      "Epoch 24/100\n",
      " - 1s - loss: 0.4128 - acc: 0.8261\n",
      "Epoch 25/100\n",
      " - 1s - loss: 0.4112 - acc: 0.8274\n",
      "Epoch 26/100\n",
      " - 1s - loss: 0.4114 - acc: 0.8271\n",
      "Epoch 27/100\n",
      " - 2s - loss: 0.4108 - acc: 0.8272\n",
      "Epoch 28/100\n",
      " - 1s - loss: 0.4103 - acc: 0.8268\n",
      "Epoch 29/100\n",
      " - 1s - loss: 0.4096 - acc: 0.8279\n",
      "Epoch 30/100\n",
      " - 2s - loss: 0.4095 - acc: 0.8278\n",
      "Epoch 31/100\n",
      " - 2s - loss: 0.4079 - acc: 0.8284\n",
      "Epoch 32/100\n",
      " - 2s - loss: 0.4077 - acc: 0.8287\n",
      "Epoch 33/100\n",
      " - 2s - loss: 0.4068 - acc: 0.8286\n",
      "Epoch 34/100\n",
      " - 1s - loss: 0.4077 - acc: 0.8289\n",
      "Epoch 35/100\n",
      " - 2s - loss: 0.4065 - acc: 0.8276\n",
      "Epoch 36/100\n",
      " - 2s - loss: 0.4052 - acc: 0.8274\n",
      "Epoch 37/100\n",
      " - 1s - loss: 0.4061 - acc: 0.8300\n",
      "Epoch 38/100\n",
      " - 1s - loss: 0.4034 - acc: 0.8301\n",
      "Epoch 39/100\n",
      " - 1s - loss: 0.4039 - acc: 0.8294\n",
      "Epoch 40/100\n",
      " - 1s - loss: 0.4031 - acc: 0.8305\n",
      "Epoch 41/100\n",
      " - 1s - loss: 0.4034 - acc: 0.8311\n",
      "Epoch 42/100\n",
      " - 1s - loss: 0.4026 - acc: 0.8307\n",
      "Epoch 43/100\n",
      " - 2s - loss: 0.4023 - acc: 0.8304\n",
      "Epoch 44/100\n",
      " - 1s - loss: 0.4016 - acc: 0.8298\n",
      "Epoch 45/100\n",
      " - 1s - loss: 0.4021 - acc: 0.8300\n",
      "Epoch 46/100\n",
      " - 1s - loss: 0.4008 - acc: 0.8324\n",
      "Epoch 47/100\n",
      " - 2s - loss: 0.4002 - acc: 0.8312\n",
      "Epoch 48/100\n",
      " - 2s - loss: 0.4001 - acc: 0.8304\n",
      "Epoch 49/100\n",
      " - 2s - loss: 0.4002 - acc: 0.8314\n",
      "Epoch 50/100\n",
      " - 1s - loss: 0.3986 - acc: 0.8320\n",
      "Epoch 51/100\n",
      " - 2s - loss: 0.3979 - acc: 0.8316\n",
      "Epoch 52/100\n",
      " - 1s - loss: 0.3986 - acc: 0.8316\n",
      "Epoch 53/100\n",
      " - 2s - loss: 0.3984 - acc: 0.8326\n",
      "Epoch 54/100\n",
      " - 2s - loss: 0.3965 - acc: 0.8341\n",
      "Epoch 55/100\n",
      " - 1s - loss: 0.3968 - acc: 0.8338\n",
      "Epoch 56/100\n",
      " - 2s - loss: 0.3958 - acc: 0.8319\n",
      "Epoch 57/100\n",
      " - 2s - loss: 0.3949 - acc: 0.8341\n",
      "Epoch 58/100\n",
      " - 1s - loss: 0.3953 - acc: 0.8338\n",
      "Epoch 59/100\n",
      " - 1s - loss: 0.3952 - acc: 0.8325\n",
      "Epoch 60/100\n",
      " - 1s - loss: 0.3935 - acc: 0.8329\n",
      "Epoch 61/100\n",
      " - 2s - loss: 0.3940 - acc: 0.8336\n",
      "Epoch 62/100\n",
      " - 1s - loss: 0.3930 - acc: 0.8343\n",
      "Epoch 63/100\n",
      " - 1s - loss: 0.3925 - acc: 0.8349\n",
      "Epoch 64/100\n",
      " - 2s - loss: 0.3927 - acc: 0.8334\n",
      "Epoch 65/100\n",
      " - 1s - loss: 0.3922 - acc: 0.8326\n",
      "Epoch 66/100\n",
      " - 1s - loss: 0.3913 - acc: 0.8342\n",
      "Epoch 67/100\n",
      " - 2s - loss: 0.3922 - acc: 0.8348\n",
      "Epoch 68/100\n",
      " - 1s - loss: 0.3916 - acc: 0.8349\n",
      "Epoch 69/100\n",
      " - 1s - loss: 0.3906 - acc: 0.8351\n",
      "Epoch 70/100\n",
      " - 1s - loss: 0.3903 - acc: 0.8354\n",
      "Epoch 71/100\n",
      " - 2s - loss: 0.3907 - acc: 0.8352\n",
      "Epoch 72/100\n",
      " - 2s - loss: 0.3902 - acc: 0.8338\n",
      "Epoch 73/100\n",
      " - 1s - loss: 0.3897 - acc: 0.8348\n",
      "Epoch 74/100\n",
      " - 1s - loss: 0.3898 - acc: 0.8358\n",
      "Epoch 75/100\n",
      " - 2s - loss: 0.3880 - acc: 0.8363\n",
      "Epoch 76/100\n",
      " - 1s - loss: 0.3879 - acc: 0.8356\n",
      "Epoch 77/100\n",
      " - 1s - loss: 0.3885 - acc: 0.8355\n",
      "Epoch 78/100\n",
      " - 1s - loss: 0.3885 - acc: 0.8353\n",
      "Epoch 79/100\n",
      " - 1s - loss: 0.3881 - acc: 0.8365\n",
      "Epoch 80/100\n",
      " - 1s - loss: 0.3867 - acc: 0.8374\n",
      "Epoch 81/100\n",
      " - 1s - loss: 0.3874 - acc: 0.8366\n",
      "Epoch 82/100\n",
      " - 2s - loss: 0.3863 - acc: 0.8355\n",
      "Epoch 83/100\n",
      " - 1s - loss: 0.3867 - acc: 0.8363\n",
      "Epoch 84/100\n",
      " - 1s - loss: 0.3859 - acc: 0.8360\n",
      "Epoch 85/100\n",
      " - 1s - loss: 0.3847 - acc: 0.8363\n",
      "Epoch 86/100\n",
      " - 1s - loss: 0.3861 - acc: 0.8355\n",
      "Epoch 87/100\n",
      " - 1s - loss: 0.3857 - acc: 0.8346\n",
      "Epoch 88/100\n",
      " - 1s - loss: 0.3846 - acc: 0.8354\n",
      "Epoch 89/100\n",
      " - 1s - loss: 0.3850 - acc: 0.8364\n",
      "Epoch 90/100\n",
      " - 1s - loss: 0.3842 - acc: 0.8376\n",
      "Epoch 91/100\n",
      " - 2s - loss: 0.3841 - acc: 0.8356\n",
      "Epoch 92/100\n",
      " - 1s - loss: 0.3837 - acc: 0.8368\n",
      "Epoch 93/100\n",
      " - 1s - loss: 0.3838 - acc: 0.8372\n",
      "Epoch 94/100\n",
      " - 1s - loss: 0.3827 - acc: 0.8381\n",
      "Epoch 95/100\n",
      " - 1s - loss: 0.3838 - acc: 0.8372\n",
      "Epoch 96/100\n",
      " - 1s - loss: 0.3833 - acc: 0.8384\n",
      "Epoch 97/100\n",
      " - 1s - loss: 0.3835 - acc: 0.8356\n",
      "Epoch 98/100\n",
      " - 2s - loss: 0.3824 - acc: 0.8379\n",
      "Epoch 99/100\n",
      " - 1s - loss: 0.3820 - acc: 0.8384\n",
      "Epoch 100/100\n",
      " - 1s - loss: 0.3826 - acc: 0.8381\n"
     ]
    },
    {
     "data": {
      "text/plain": [
       "<keras.callbacks.History at 0x1a1f632550>"
      ]
     },
     "execution_count": 13,
     "metadata": {},
     "output_type": "execute_result"
    }
   ],
   "source": [
    "#train the model\n",
    "\n",
    "model.fit(X_train_scaled, y_train_categorical, epochs=100,shuffle = True,verbose =2)"
   ]
  },
  {
   "cell_type": "code",
   "execution_count": 14,
   "metadata": {},
   "outputs": [
    {
     "name": "stdout",
     "output_type": "stream",
     "text": [
      "0.469202428579\n",
      "0.806933333302\n"
     ]
    }
   ],
   "source": [
    "#quantify the model\n",
    "model_loss, model_accuracy = model.evaluate(X_test_scaled,y_test_categorical,verbose =2)\n",
    "print( model_loss )\n",
    "print (model_accuracy)"
   ]
  },
  {
   "cell_type": "code",
   "execution_count": null,
   "metadata": {},
   "outputs": [],
   "source": [
    "model.predict_classes(X_test)"
   ]
  },
  {
   "cell_type": "code",
   "execution_count": 15,
   "metadata": {
    "collapsed": true
   },
   "outputs": [],
   "source": [
    "from sklearn.metrics import precision_recall_fscore_support\n",
    "from sklearn.metrics import recall_score\n",
    "from sklearn.metrics import classification_report"
   ]
  },
  {
   "cell_type": "code",
   "execution_count": 20,
   "metadata": {},
   "outputs": [],
   "source": [
    "y_prediction = model.predict_classes(X_test)"
   ]
  },
  {
   "cell_type": "code",
   "execution_count": 21,
   "metadata": {},
   "outputs": [
    {
     "name": "stdout",
     "output_type": "stream",
     "text": [
      "Recall score:0.429856115108\n"
     ]
    }
   ],
   "source": [
    "print(\"Recall score:\"+ str(recall_score(y_test, y_prediction)))"
   ]
  },
  {
   "cell_type": "code",
   "execution_count": 22,
   "metadata": {},
   "outputs": [
    {
     "name": "stdout",
     "output_type": "stream",
     "text": [
      "             precision    recall  f1-score   support\n",
      "\n",
      "    default       0.80      0.65      0.72      5832\n",
      "non_default       0.26      0.43      0.32      1668\n",
      "\n",
      "avg / total       0.68      0.60      0.63      7500\n",
      "\n"
     ]
    }
   ],
   "source": [
    "print(classification_report(y_test, y_prediction,\n",
    "                            target_names=[\"default\", \"non_default\"]))"
   ]
  },
  {
   "cell_type": "code",
   "execution_count": null,
   "metadata": {
    "collapsed": true
   },
   "outputs": [],
   "source": []
  }
 ],
 "metadata": {
  "kernelspec": {
   "display_name": "Python 3",
   "language": "python",
   "name": "python3"
  },
  "language_info": {
   "codemirror_mode": {
    "name": "ipython",
    "version": 3
   },
   "file_extension": ".py",
   "mimetype": "text/x-python",
   "name": "python",
   "nbconvert_exporter": "python",
   "pygments_lexer": "ipython3",
   "version": "3.6.3"
  }
 },
 "nbformat": 4,
 "nbformat_minor": 2
}
