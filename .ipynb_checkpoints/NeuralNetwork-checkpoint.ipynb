{
 "cells": [
  {
   "cell_type": "code",
   "execution_count": 1,
   "metadata": {},
   "outputs": [
    {
     "name": "stderr",
     "output_type": "stream",
     "text": [
      "Using TensorFlow backend.\n"
     ]
    }
   ],
   "source": [
    "from sklearn.model_selection import train_test_split\n",
    "import pandas as pd\n",
    "import numpy as np\n",
    "from sklearn.preprocessing import StandardScaler\n",
    "from keras.utils import to_categorical\n",
    "from keras.models import Sequential\n",
    "from keras.layers import Dense"
   ]
  },
  {
   "cell_type": "code",
   "execution_count": 2,
   "metadata": {},
   "outputs": [
    {
     "data": {
      "text/html": [
       "<div>\n",
       "<style>\n",
       "    .dataframe thead tr:only-child th {\n",
       "        text-align: right;\n",
       "    }\n",
       "\n",
       "    .dataframe thead th {\n",
       "        text-align: left;\n",
       "    }\n",
       "\n",
       "    .dataframe tbody tr th {\n",
       "        vertical-align: top;\n",
       "    }\n",
       "</style>\n",
       "<table border=\"1\" class=\"dataframe\">\n",
       "  <thead>\n",
       "    <tr style=\"text-align: right;\">\n",
       "      <th></th>\n",
       "      <th>LIMIT_BAL_US</th>\n",
       "      <th>SEX</th>\n",
       "      <th>EDUCATION</th>\n",
       "      <th>MARRIAGE</th>\n",
       "      <th>AGE</th>\n",
       "      <th>PAY_SCORE_AVG</th>\n",
       "      <th>BILL_AVG_US</th>\n",
       "      <th>PAY_AMT_AVG_US</th>\n",
       "      <th>PAY_TO_BILL</th>\n",
       "      <th>CREDIT_UTILIZATION</th>\n",
       "      <th>DEFAULT_PAYMENT_NEXT_MO</th>\n",
       "    </tr>\n",
       "  </thead>\n",
       "  <tbody>\n",
       "    <tr>\n",
       "      <th>0</th>\n",
       "      <td>725.714286</td>\n",
       "      <td>2</td>\n",
       "      <td>2</td>\n",
       "      <td>1</td>\n",
       "      <td>24</td>\n",
       "      <td>-0.33</td>\n",
       "      <td>46.590857</td>\n",
       "      <td>4.166810</td>\n",
       "      <td>0.09</td>\n",
       "      <td>0.195650</td>\n",
       "      <td>1</td>\n",
       "    </tr>\n",
       "    <tr>\n",
       "      <th>1</th>\n",
       "      <td>4354.285714</td>\n",
       "      <td>2</td>\n",
       "      <td>2</td>\n",
       "      <td>2</td>\n",
       "      <td>26</td>\n",
       "      <td>0.50</td>\n",
       "      <td>103.275191</td>\n",
       "      <td>30.238095</td>\n",
       "      <td>0.29</td>\n",
       "      <td>0.022350</td>\n",
       "      <td>1</td>\n",
       "    </tr>\n",
       "    <tr>\n",
       "      <th>2</th>\n",
       "      <td>3265.714286</td>\n",
       "      <td>2</td>\n",
       "      <td>2</td>\n",
       "      <td>2</td>\n",
       "      <td>34</td>\n",
       "      <td>0.00</td>\n",
       "      <td>614.758619</td>\n",
       "      <td>66.632667</td>\n",
       "      <td>0.11</td>\n",
       "      <td>0.324878</td>\n",
       "      <td>0</td>\n",
       "    </tr>\n",
       "    <tr>\n",
       "      <th>3</th>\n",
       "      <td>1814.285714</td>\n",
       "      <td>2</td>\n",
       "      <td>2</td>\n",
       "      <td>1</td>\n",
       "      <td>37</td>\n",
       "      <td>0.00</td>\n",
       "      <td>1399.019905</td>\n",
       "      <td>50.727429</td>\n",
       "      <td>0.04</td>\n",
       "      <td>0.939800</td>\n",
       "      <td>0</td>\n",
       "    </tr>\n",
       "    <tr>\n",
       "      <th>4</th>\n",
       "      <td>1814.285714</td>\n",
       "      <td>1</td>\n",
       "      <td>2</td>\n",
       "      <td>1</td>\n",
       "      <td>57</td>\n",
       "      <td>-0.33</td>\n",
       "      <td>661.240619</td>\n",
       "      <td>357.105857</td>\n",
       "      <td>0.54</td>\n",
       "      <td>0.172340</td>\n",
       "      <td>0</td>\n",
       "    </tr>\n",
       "  </tbody>\n",
       "</table>\n",
       "</div>"
      ],
      "text/plain": [
       "   LIMIT_BAL_US  SEX  EDUCATION  MARRIAGE  AGE  PAY_SCORE_AVG  BILL_AVG_US  \\\n",
       "0    725.714286    2          2         1   24          -0.33    46.590857   \n",
       "1   4354.285714    2          2         2   26           0.50   103.275191   \n",
       "2   3265.714286    2          2         2   34           0.00   614.758619   \n",
       "3   1814.285714    2          2         1   37           0.00  1399.019905   \n",
       "4   1814.285714    1          2         1   57          -0.33   661.240619   \n",
       "\n",
       "   PAY_AMT_AVG_US  PAY_TO_BILL  CREDIT_UTILIZATION  DEFAULT_PAYMENT_NEXT_MO  \n",
       "0        4.166810         0.09            0.195650                        1  \n",
       "1       30.238095         0.29            0.022350                        1  \n",
       "2       66.632667         0.11            0.324878                        0  \n",
       "3       50.727429         0.04            0.939800                        0  \n",
       "4      357.105857         0.54            0.172340                        0  "
      ]
     },
     "execution_count": 2,
     "metadata": {},
     "output_type": "execute_result"
    }
   ],
   "source": [
    "df = pd.read_csv(\"Data_USD.csv\")\n",
    "df.head()"
   ]
  },
  {
   "cell_type": "code",
   "execution_count": 3,
   "metadata": {},
   "outputs": [
    {
     "name": "stdout",
     "output_type": "stream",
     "text": [
      "(30000, 10)\n",
      "(30000,)\n"
     ]
    }
   ],
   "source": [
    "X = df.drop('DEFAULT_PAYMENT_NEXT_MO',axis =1).values\n",
    "y = df['DEFAULT_PAYMENT_NEXT_MO'].values\n",
    "print(X.shape)\n",
    "print(y.shape)"
   ]
  },
  {
   "cell_type": "code",
   "execution_count": 4,
   "metadata": {
    "collapsed": true
   },
   "outputs": [],
   "source": [
    "X_train, X_test, y_train, y_test = train_test_split (X,y,random_state=1)"
   ]
  },
  {
   "cell_type": "code",
   "execution_count": 5,
   "metadata": {
    "collapsed": true
   },
   "outputs": [],
   "source": [
    "from sklearn.preprocessing import StandardScaler\n",
    "\n",
    "X_scaler = StandardScaler().fit(X_train)"
   ]
  },
  {
   "cell_type": "code",
   "execution_count": 6,
   "metadata": {
    "collapsed": true
   },
   "outputs": [],
   "source": [
    "X_train_scaled = X_scaler.transform(X_train)\n",
    "X_test_scaled = X_scaler.transform(X_test)"
   ]
  },
  {
   "cell_type": "code",
   "execution_count": 13,
   "metadata": {
    "collapsed": true
   },
   "outputs": [],
   "source": [
    "y_train_categorical = to_categorical(y_train)\n",
    "y_test_categorical = to_categorical(y_test)"
   ]
  },
  {
   "cell_type": "code",
   "execution_count": 7,
   "metadata": {
    "collapsed": true
   },
   "outputs": [],
   "source": [
    "from keras.models import Sequential\n",
    "\n",
    "#instantiate\n",
    "model = Sequential()"
   ]
  },
  {
   "cell_type": "code",
   "execution_count": 17,
   "metadata": {
    "collapsed": true
   },
   "outputs": [],
   "source": [
    "from keras.layers import Dense\n",
    "\n",
    "number_inputs = 10\n",
    "number_hidden = 30\n",
    "\n",
    "model.add(Dense(units = number_hidden, activation ='relu', input_dim=number_inputs))\n",
    "model.add(Dense(units = 10, activation ='relu')) #second hidden layer"
   ]
  },
  {
   "cell_type": "code",
   "execution_count": 18,
   "metadata": {
    "collapsed": true
   },
   "outputs": [],
   "source": [
    "number_classes =2 ## yes or no\n",
    "model.add(Dense(units = number_classes, activation = 'softmax'))"
   ]
  },
  {
   "cell_type": "code",
   "execution_count": 19,
   "metadata": {},
   "outputs": [
    {
     "name": "stdout",
     "output_type": "stream",
     "text": [
      "_________________________________________________________________\n",
      "Layer (type)                 Output Shape              Param #   \n",
      "=================================================================\n",
      "dense_1 (Dense)              (None, 30)                330       \n",
      "_________________________________________________________________\n",
      "dense_2 (Dense)              (None, 2)                 62        \n",
      "_________________________________________________________________\n",
      "dense_3 (Dense)              (None, 30)                90        \n",
      "_________________________________________________________________\n",
      "dense_4 (Dense)              (None, 10)                310       \n",
      "_________________________________________________________________\n",
      "dense_5 (Dense)              (None, 2)                 22        \n",
      "=================================================================\n",
      "Total params: 814\n",
      "Trainable params: 814\n",
      "Non-trainable params: 0\n",
      "_________________________________________________________________\n"
     ]
    }
   ],
   "source": [
    "model.summary()"
   ]
  },
  {
   "cell_type": "code",
   "execution_count": 20,
   "metadata": {
    "collapsed": true
   },
   "outputs": [],
   "source": [
    "#compile the model\n",
    "model.compile(optimizer = 'adam' ,\n",
    "             loss = 'categorical_crossentropy',\n",
    "             metrics =['accuracy'])"
   ]
  },
  {
   "cell_type": "code",
   "execution_count": 21,
   "metadata": {},
   "outputs": [
    {
     "name": "stdout",
     "output_type": "stream",
     "text": [
      "Epoch 1/100\n",
      " - 2s - loss: 0.4574 - acc: 0.8052\n",
      "Epoch 2/100\n",
      " - 2s - loss: 0.4378 - acc: 0.8108\n",
      "Epoch 3/100\n",
      " - 2s - loss: 0.4369 - acc: 0.8099\n",
      "Epoch 4/100\n",
      " - 2s - loss: 0.4360 - acc: 0.8098\n",
      "Epoch 5/100\n",
      " - 2s - loss: 0.4363 - acc: 0.8096\n",
      "Epoch 6/100\n",
      " - 3s - loss: 0.4353 - acc: 0.8099\n",
      "Epoch 7/100\n",
      " - 2s - loss: 0.4358 - acc: 0.8107\n",
      "Epoch 8/100\n",
      " - 2s - loss: 0.4355 - acc: 0.8118\n",
      "Epoch 9/100\n",
      " - 2s - loss: 0.4356 - acc: 0.8126\n",
      "Epoch 10/100\n",
      " - 2s - loss: 0.4351 - acc: 0.8104\n",
      "Epoch 11/100\n",
      " - 2s - loss: 0.4353 - acc: 0.8109\n",
      "Epoch 12/100\n",
      " - 2s - loss: 0.4349 - acc: 0.8106\n",
      "Epoch 13/100\n",
      " - 2s - loss: 0.4353 - acc: 0.8105\n",
      "Epoch 14/100\n",
      " - 2s - loss: 0.4349 - acc: 0.8098\n",
      "Epoch 15/100\n",
      " - 2s - loss: 0.4349 - acc: 0.8107\n",
      "Epoch 16/100\n",
      " - 2s - loss: 0.4355 - acc: 0.8119\n",
      "Epoch 17/100\n",
      " - 3s - loss: 0.4354 - acc: 0.8108\n",
      "Epoch 18/100\n",
      " - 3s - loss: 0.4351 - acc: 0.8107\n",
      "Epoch 19/100\n",
      " - 2s - loss: 0.4351 - acc: 0.8113\n",
      "Epoch 20/100\n",
      " - 2s - loss: 0.4356 - acc: 0.8105\n",
      "Epoch 21/100\n",
      " - 3s - loss: 0.4353 - acc: 0.8098\n",
      "Epoch 22/100\n",
      " - 2s - loss: 0.4357 - acc: 0.8115\n",
      "Epoch 23/100\n",
      " - 3s - loss: 0.4351 - acc: 0.8109\n",
      "Epoch 24/100\n",
      " - 3s - loss: 0.4349 - acc: 0.8112\n",
      "Epoch 25/100\n",
      " - 3s - loss: 0.4350 - acc: 0.8107\n",
      "Epoch 26/100\n",
      " - 2s - loss: 0.4356 - acc: 0.8105\n",
      "Epoch 27/100\n",
      " - 2s - loss: 0.4350 - acc: 0.8105\n",
      "Epoch 28/100\n",
      " - 3s - loss: 0.4352 - acc: 0.8105\n",
      "Epoch 29/100\n",
      " - 3s - loss: 0.4354 - acc: 0.8093\n",
      "Epoch 30/100\n",
      " - 3s - loss: 0.4349 - acc: 0.8119\n",
      "Epoch 31/100\n",
      " - 3s - loss: 0.4353 - acc: 0.8096\n",
      "Epoch 32/100\n",
      " - 3s - loss: 0.4350 - acc: 0.8100\n",
      "Epoch 33/100\n",
      " - 2s - loss: 0.4348 - acc: 0.8112\n",
      "Epoch 34/100\n",
      " - 2s - loss: 0.4348 - acc: 0.8107\n",
      "Epoch 35/100\n",
      " - 3s - loss: 0.4352 - acc: 0.8118\n",
      "Epoch 36/100\n",
      " - 3s - loss: 0.4350 - acc: 0.8113\n",
      "Epoch 37/100\n",
      " - 2s - loss: 0.4349 - acc: 0.8107\n",
      "Epoch 38/100\n",
      " - 2s - loss: 0.4354 - acc: 0.8113\n",
      "Epoch 39/100\n",
      " - 2s - loss: 0.4351 - acc: 0.8114\n",
      "Epoch 40/100\n",
      " - 3s - loss: 0.4347 - acc: 0.8124\n",
      "Epoch 41/100\n",
      " - 2s - loss: 0.4344 - acc: 0.8115\n",
      "Epoch 42/100\n",
      " - 2s - loss: 0.4349 - acc: 0.8112\n",
      "Epoch 43/100\n",
      " - 2s - loss: 0.4345 - acc: 0.8110\n",
      "Epoch 44/100\n",
      " - 2s - loss: 0.4352 - acc: 0.8104\n",
      "Epoch 45/100\n",
      " - 2s - loss: 0.4345 - acc: 0.8120\n",
      "Epoch 46/100\n",
      " - 2s - loss: 0.4348 - acc: 0.8108\n",
      "Epoch 47/100\n",
      " - 2s - loss: 0.4352 - acc: 0.8104\n",
      "Epoch 48/100\n",
      " - 2s - loss: 0.4344 - acc: 0.8121\n",
      "Epoch 49/100\n",
      " - 2s - loss: 0.4345 - acc: 0.8109\n",
      "Epoch 50/100\n",
      " - 2s - loss: 0.4351 - acc: 0.8119\n",
      "Epoch 51/100\n",
      " - 2s - loss: 0.4345 - acc: 0.8114\n",
      "Epoch 52/100\n",
      " - 3s - loss: 0.4347 - acc: 0.8121\n",
      "Epoch 53/100\n",
      " - 2s - loss: 0.4350 - acc: 0.8109\n",
      "Epoch 54/100\n",
      " - 2s - loss: 0.4344 - acc: 0.8111\n",
      "Epoch 55/100\n",
      " - 2s - loss: 0.4342 - acc: 0.8115\n",
      "Epoch 56/100\n",
      " - 2s - loss: 0.4348 - acc: 0.8113\n",
      "Epoch 57/100\n",
      " - 2s - loss: 0.4342 - acc: 0.8116\n",
      "Epoch 58/100\n",
      " - 2s - loss: 0.4348 - acc: 0.8108\n",
      "Epoch 59/100\n",
      " - 2s - loss: 0.4343 - acc: 0.8108\n",
      "Epoch 60/100\n",
      " - 2s - loss: 0.4348 - acc: 0.8115\n",
      "Epoch 61/100\n",
      " - 2s - loss: 0.4345 - acc: 0.8103\n",
      "Epoch 62/100\n",
      " - 2s - loss: 0.4346 - acc: 0.8103\n",
      "Epoch 63/100\n",
      " - 2s - loss: 0.4338 - acc: 0.8108\n",
      "Epoch 64/100\n",
      " - 2s - loss: 0.4350 - acc: 0.8120\n",
      "Epoch 65/100\n",
      " - 2s - loss: 0.4346 - acc: 0.8117\n",
      "Epoch 66/100\n",
      " - 3s - loss: 0.4343 - acc: 0.8104\n",
      "Epoch 67/100\n",
      " - 2s - loss: 0.4343 - acc: 0.8116\n",
      "Epoch 68/100\n",
      " - 2s - loss: 0.4345 - acc: 0.8112\n",
      "Epoch 69/100\n",
      " - 2s - loss: 0.4350 - acc: 0.8118\n",
      "Epoch 70/100\n",
      " - 2s - loss: 0.4339 - acc: 0.8106\n",
      "Epoch 71/100\n",
      " - 2s - loss: 0.4346 - acc: 0.8117\n",
      "Epoch 72/100\n",
      " - 2s - loss: 0.4341 - acc: 0.8122\n",
      "Epoch 73/100\n",
      " - 2s - loss: 0.4346 - acc: 0.8104\n",
      "Epoch 74/100\n",
      " - 2s - loss: 0.4343 - acc: 0.8119\n",
      "Epoch 75/100\n",
      " - 2s - loss: 0.4343 - acc: 0.8116\n",
      "Epoch 76/100\n",
      " - 3s - loss: 0.4345 - acc: 0.8108\n",
      "Epoch 77/100\n",
      " - 2s - loss: 0.4345 - acc: 0.8105\n",
      "Epoch 78/100\n",
      " - 3s - loss: 0.4344 - acc: 0.8100\n",
      "Epoch 79/100\n",
      " - 2s - loss: 0.4344 - acc: 0.8107\n",
      "Epoch 80/100\n",
      " - 2s - loss: 0.4342 - acc: 0.8118\n",
      "Epoch 81/100\n",
      " - 2s - loss: 0.4341 - acc: 0.8103\n",
      "Epoch 82/100\n",
      " - 2s - loss: 0.4340 - acc: 0.8114\n",
      "Epoch 83/100\n",
      " - 2s - loss: 0.4344 - acc: 0.8112\n",
      "Epoch 84/100\n",
      " - 2s - loss: 0.4338 - acc: 0.8116\n",
      "Epoch 85/100\n",
      " - 2s - loss: 0.4341 - acc: 0.8114\n",
      "Epoch 86/100\n",
      " - 2s - loss: 0.4342 - acc: 0.8128\n",
      "Epoch 87/100\n",
      " - 2s - loss: 0.4343 - acc: 0.8114\n",
      "Epoch 88/100\n",
      " - 2s - loss: 0.4339 - acc: 0.8110\n",
      "Epoch 89/100\n",
      " - 3s - loss: 0.4337 - acc: 0.8117\n",
      "Epoch 90/100\n",
      " - 2s - loss: 0.4343 - acc: 0.8116\n",
      "Epoch 91/100\n",
      " - 2s - loss: 0.4339 - acc: 0.8120\n",
      "Epoch 92/100\n",
      " - 3s - loss: 0.4338 - acc: 0.8114\n",
      "Epoch 93/100\n",
      " - 3s - loss: 0.4351 - acc: 0.8096\n",
      "Epoch 94/100\n",
      " - 2s - loss: 0.4341 - acc: 0.8120\n",
      "Epoch 95/100\n",
      " - 3s - loss: 0.4341 - acc: 0.8127\n",
      "Epoch 96/100\n",
      " - 2s - loss: 0.4343 - acc: 0.8116\n",
      "Epoch 97/100\n",
      " - 3s - loss: 0.4339 - acc: 0.8108\n",
      "Epoch 98/100\n",
      " - 2s - loss: 0.4345 - acc: 0.8119\n",
      "Epoch 99/100\n",
      " - 2s - loss: 0.4339 - acc: 0.8116\n",
      "Epoch 100/100\n",
      " - 2s - loss: 0.4339 - acc: 0.8115\n"
     ]
    },
    {
     "data": {
      "text/plain": [
       "<keras.callbacks.History at 0x1a1d550da0>"
      ]
     },
     "execution_count": 21,
     "metadata": {},
     "output_type": "execute_result"
    }
   ],
   "source": [
    "#train the model\n",
    "\n",
    "model.fit(X_train_scaled, y_train_categorical, epochs=100,shuffle = True,verbose =2)"
   ]
  },
  {
   "cell_type": "code",
   "execution_count": 22,
   "metadata": {},
   "outputs": [
    {
     "name": "stdout",
     "output_type": "stream",
     "text": [
      "0.453109962098\n",
      "0.802799999968\n"
     ]
    }
   ],
   "source": [
    "#quantify the model\n",
    "model_loss, model_accuracy = model.evaluate(X_test_scaled,y_test_categorical,verbose =2)\n",
    "print( model_loss )\n",
    "print (model_accuracy)"
   ]
  },
  {
   "cell_type": "code",
   "execution_count": 23,
   "metadata": {},
   "outputs": [
    {
     "data": {
      "text/plain": [
       "array([1, 0, 0, ..., 0, 1, 1])"
      ]
     },
     "execution_count": 23,
     "metadata": {},
     "output_type": "execute_result"
    }
   ],
   "source": [
    "model.predict_classes(X_test)"
   ]
  },
  {
   "cell_type": "code",
   "execution_count": null,
   "metadata": {
    "collapsed": true
   },
   "outputs": [],
   "source": []
  }
 ],
 "metadata": {
  "kernelspec": {
   "display_name": "Python 3",
   "language": "python",
   "name": "python3"
  },
  "language_info": {
   "codemirror_mode": {
    "name": "ipython",
    "version": 3
   },
   "file_extension": ".py",
   "mimetype": "text/x-python",
   "name": "python",
   "nbconvert_exporter": "python",
   "pygments_lexer": "ipython3",
   "version": "3.6.3"
  }
 },
 "nbformat": 4,
 "nbformat_minor": 2
}
