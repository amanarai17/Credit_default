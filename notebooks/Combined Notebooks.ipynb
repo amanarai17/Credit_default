{
 "cells": [
  {
   "cell_type": "markdown",
   "metadata": {},
   "source": [
    "## Combining All ML Models to Compare in ROC Graph"
   ]
  },
  {
   "cell_type": "code",
   "execution_count": 33,
   "metadata": {},
   "outputs": [],
   "source": [
    "# Load dependencies for all models\n",
    "from sklearn.ensemble import RandomForestClassifier\n",
    "from sklearn.model_selection import train_test_split\n",
    "import pandas as pd\n",
    "import numpy as np\n",
    "\n",
    "from keras.models import Sequential\n",
    "from sklearn.preprocessing import StandardScaler\n",
    "from keras.utils import to_categorical\n",
    "from keras.models import Sequential\n",
    "from keras.layers import Dense\n",
    "\n",
    "import matplotlib\n",
    "%matplotlib inline  \n",
    "import matplotlib.pyplot as plt\n",
    "from sklearn.linear_model import LogisticRegression\n",
    "\n",
    "from sklearn.metrics import precision_recall_fscore_support\n",
    "from sklearn.metrics import recall_score\n",
    "from sklearn.metrics import classification_report\n",
    "import pickle\n",
    "\n",
    "from sklearn.metrics import confusion_matrix\n",
    "import itertools\n",
    "\n",
    "from sklearn.metrics import roc_auc_score\n",
    "from sklearn.metrics import roc_curve"
   ]
  },
  {
   "cell_type": "code",
   "execution_count": 2,
   "metadata": {},
   "outputs": [
    {
     "data": {
      "text/html": [
       "<div>\n",
       "<style>\n",
       "    .dataframe thead tr:only-child th {\n",
       "        text-align: right;\n",
       "    }\n",
       "\n",
       "    .dataframe thead th {\n",
       "        text-align: left;\n",
       "    }\n",
       "\n",
       "    .dataframe tbody tr th {\n",
       "        vertical-align: top;\n",
       "    }\n",
       "</style>\n",
       "<table border=\"1\" class=\"dataframe\">\n",
       "  <thead>\n",
       "    <tr style=\"text-align: right;\">\n",
       "      <th></th>\n",
       "      <th>LIMIT_BAL_US</th>\n",
       "      <th>SEX</th>\n",
       "      <th>EDUCATION</th>\n",
       "      <th>MARRIAGE</th>\n",
       "      <th>AGE</th>\n",
       "      <th>PAY_SCORE_AVG</th>\n",
       "      <th>BILL_AVG_US</th>\n",
       "      <th>PAY_AMT_AVG_US</th>\n",
       "      <th>PAY_TO_BILL</th>\n",
       "      <th>CREDIT_UTILIZATION</th>\n",
       "      <th>DEFAULT_PAYMENT_NEXT_MO</th>\n",
       "    </tr>\n",
       "  </thead>\n",
       "  <tbody>\n",
       "    <tr>\n",
       "      <th>0</th>\n",
       "      <td>725.714286</td>\n",
       "      <td>2</td>\n",
       "      <td>2</td>\n",
       "      <td>1</td>\n",
       "      <td>24</td>\n",
       "      <td>-0.33</td>\n",
       "      <td>46.590857</td>\n",
       "      <td>4.166810</td>\n",
       "      <td>0.09</td>\n",
       "      <td>0.195650</td>\n",
       "      <td>1</td>\n",
       "    </tr>\n",
       "    <tr>\n",
       "      <th>1</th>\n",
       "      <td>4354.285714</td>\n",
       "      <td>2</td>\n",
       "      <td>2</td>\n",
       "      <td>2</td>\n",
       "      <td>26</td>\n",
       "      <td>0.50</td>\n",
       "      <td>103.275191</td>\n",
       "      <td>30.238095</td>\n",
       "      <td>0.29</td>\n",
       "      <td>0.022350</td>\n",
       "      <td>1</td>\n",
       "    </tr>\n",
       "    <tr>\n",
       "      <th>2</th>\n",
       "      <td>3265.714286</td>\n",
       "      <td>2</td>\n",
       "      <td>2</td>\n",
       "      <td>2</td>\n",
       "      <td>34</td>\n",
       "      <td>0.00</td>\n",
       "      <td>614.758619</td>\n",
       "      <td>66.632667</td>\n",
       "      <td>0.11</td>\n",
       "      <td>0.324878</td>\n",
       "      <td>0</td>\n",
       "    </tr>\n",
       "    <tr>\n",
       "      <th>3</th>\n",
       "      <td>1814.285714</td>\n",
       "      <td>2</td>\n",
       "      <td>2</td>\n",
       "      <td>1</td>\n",
       "      <td>37</td>\n",
       "      <td>0.00</td>\n",
       "      <td>1399.019905</td>\n",
       "      <td>50.727429</td>\n",
       "      <td>0.04</td>\n",
       "      <td>0.939800</td>\n",
       "      <td>0</td>\n",
       "    </tr>\n",
       "    <tr>\n",
       "      <th>4</th>\n",
       "      <td>1814.285714</td>\n",
       "      <td>1</td>\n",
       "      <td>2</td>\n",
       "      <td>1</td>\n",
       "      <td>57</td>\n",
       "      <td>-0.33</td>\n",
       "      <td>661.240619</td>\n",
       "      <td>357.105857</td>\n",
       "      <td>0.54</td>\n",
       "      <td>0.172340</td>\n",
       "      <td>0</td>\n",
       "    </tr>\n",
       "  </tbody>\n",
       "</table>\n",
       "</div>"
      ],
      "text/plain": [
       "   LIMIT_BAL_US  SEX  EDUCATION  MARRIAGE  AGE  PAY_SCORE_AVG  BILL_AVG_US  \\\n",
       "0    725.714286    2          2         1   24          -0.33    46.590857   \n",
       "1   4354.285714    2          2         2   26           0.50   103.275191   \n",
       "2   3265.714286    2          2         2   34           0.00   614.758619   \n",
       "3   1814.285714    2          2         1   37           0.00  1399.019905   \n",
       "4   1814.285714    1          2         1   57          -0.33   661.240619   \n",
       "\n",
       "   PAY_AMT_AVG_US  PAY_TO_BILL  CREDIT_UTILIZATION  DEFAULT_PAYMENT_NEXT_MO  \n",
       "0        4.166810         0.09            0.195650                        1  \n",
       "1       30.238095         0.29            0.022350                        1  \n",
       "2       66.632667         0.11            0.324878                        0  \n",
       "3       50.727429         0.04            0.939800                        0  \n",
       "4      357.105857         0.54            0.172340                        0  "
      ]
     },
     "execution_count": 2,
     "metadata": {},
     "output_type": "execute_result"
    }
   ],
   "source": [
    "df = pd.read_csv(\"Data_USD.csv\")\n",
    "df.head()"
   ]
  },
  {
   "cell_type": "code",
   "execution_count": 3,
   "metadata": {},
   "outputs": [
    {
     "name": "stdout",
     "output_type": "stream",
     "text": [
      "Original shape of the data: (30000, 11)\n"
     ]
    }
   ],
   "source": [
    "print(\"Original shape of the data: \"+ str(df.shape))\n",
    "features_names = df.columns"
   ]
  },
  {
   "cell_type": "code",
   "execution_count": 4,
   "metadata": {},
   "outputs": [
    {
     "name": "stdout",
     "output_type": "stream",
     "text": [
      "(30000, 10)\n",
      "(30000,)\n"
     ]
    }
   ],
   "source": [
    "X = df.drop('DEFAULT_PAYMENT_NEXT_MO', axis =1).values\n",
    "y = df['DEFAULT_PAYMENT_NEXT_MO'].values\n",
    "print(X.shape)\n",
    "print(y.shape)"
   ]
  },
  {
   "cell_type": "markdown",
   "metadata": {},
   "source": [
    "Split my data into training and testing"
   ]
  },
  {
   "cell_type": "code",
   "execution_count": 5,
   "metadata": {
    "collapsed": true
   },
   "outputs": [],
   "source": [
    "X_train, X_test, y_train, y_test = train_test_split(X, y, test_size=0.33, random_state=42)"
   ]
  },
  {
   "cell_type": "markdown",
   "metadata": {},
   "source": [
    "## Instantiate the random forest model with 200 trees"
   ]
  },
  {
   "cell_type": "code",
   "execution_count": 6,
   "metadata": {},
   "outputs": [
    {
     "data": {
      "text/plain": [
       "RandomForestClassifier(bootstrap=True, class_weight=None, criterion='gini',\n",
       "            max_depth=None, max_features='auto', max_leaf_nodes=None,\n",
       "            min_impurity_decrease=0.0, min_impurity_split=None,\n",
       "            min_samples_leaf=1, min_samples_split=2,\n",
       "            min_weight_fraction_leaf=0.0, n_estimators=200, n_jobs=1,\n",
       "            oob_score=False, random_state=None, verbose=0,\n",
       "            warm_start=False)"
      ]
     },
     "execution_count": 6,
     "metadata": {},
     "output_type": "execute_result"
    }
   ],
   "source": [
    "rf = RandomForestClassifier(n_estimators=200)\n",
    "rf.fit(X_train, y_train)"
   ]
  },
  {
   "cell_type": "markdown",
   "metadata": {},
   "source": [
    "Check feature importance"
   ]
  },
  {
   "cell_type": "code",
   "execution_count": 7,
   "metadata": {},
   "outputs": [
    {
     "data": {
      "text/plain": [
       "[(0.19092370700215433, 'PAY_SCORE_AVG'),\n",
       " (0.14928679656747346, 'PAY_AMT_AVG_US'),\n",
       " (0.14512468434205478, 'CREDIT_UTILIZATION'),\n",
       " (0.14300079893025783, 'BILL_AVG_US'),\n",
       " (0.11589026287459094, 'AGE'),\n",
       " (0.09567396195811996, 'LIMIT_BAL_US'),\n",
       " (0.082133176986052589, 'PAY_TO_BILL'),\n",
       " (0.034660520459535903, 'EDUCATION'),\n",
       " (0.022464088478129911, 'MARRIAGE'),\n",
       " (0.020842002401630519, 'SEX')]"
      ]
     },
     "execution_count": 7,
     "metadata": {},
     "output_type": "execute_result"
    }
   ],
   "source": [
    "sorted(zip(rf.feature_importances_, features_names), reverse=True) "
   ]
  },
  {
   "cell_type": "code",
   "execution_count": 8,
   "metadata": {},
   "outputs": [
    {
     "data": {
      "image/png": "[encoded data removed]",
      "text/plain": [
       "<matplotlib.figure.Figure at 0x1a19cf9048>"
      ]
     },
     "metadata": {},
     "output_type": "display_data"
    }
   ],
   "source": [
    "## plot the importances ##\n",
    "import matplotlib.pyplot as plt\n",
    "importances = rf.feature_importances_\n",
    "\n",
    "\n",
    "indices = np.argsort(importances)[::-1]\n",
    "plt.figure(figsize=(12,6))\n",
    "plt.title(\"Feature importances by DecisionTreeClassifier\")\n",
    "plt.bar(range(len(indices)), importances[indices], color='lightblue',  align=\"center\")\n",
    "plt.step(range(len(indices)), np.cumsum(importances[indices]), where='mid', label='Cumulative')\n",
    "plt.xticks(range(len(indices)), features_names[indices], rotation='vertical',fontsize=14)\n",
    "plt.xlim([-1, len(indices)])\n",
    "plt.show()"
   ]
  },
  {
   "cell_type": "markdown",
   "metadata": {},
   "source": [
    "Making my prediction and seeing how well my model predicted by checking recall, precision, F1 score and making a confusion matrix.\n",
    "Recall -tells us generally or overall how well our model predicted based on the total of how much it correctly predicted /correctly predicted + how many where actually right but predicted wrong.\n",
    "\n",
    "                    formula = TP/TP+FN\n",
    "Precision -tells us or gives us true measure how well our model predicted it shows correctly predicted /correctly predicted + how many the model predicted to be positive but where false.\n",
    "\n",
    "                   formula = TP/TP+FP\n",
    "F1 score - gives us a mean of precision and recall, a sumarization of how well it did in respect to recall and precision."
   ]
  },
  {
   "cell_type": "code",
   "execution_count": 9,
   "metadata": {
    "collapsed": true
   },
   "outputs": [],
   "source": [
    "#Make my predictions\n",
    "rf_y_prediction = rf.predict(X_test)"
   ]
  },
  {
   "cell_type": "code",
   "execution_count": 34,
   "metadata": {
    "collapsed": true
   },
   "outputs": [],
   "source": [
    "rf_roc_auc = roc_auc_score(y_test, rf.predict(X_test))"
   ]
  },
  {
   "cell_type": "code",
   "execution_count": 10,
   "metadata": {},
   "outputs": [
    {
     "name": "stdout",
     "output_type": "stream",
     "text": [
      "             precision    recall  f1-score   support\n",
      "\n",
      "    default       0.83      0.94      0.88      7742\n",
      "non_default       0.58      0.32      0.41      2158\n",
      "\n",
      "avg / total       0.78      0.80      0.78      9900\n",
      "\n"
     ]
    }
   ],
   "source": [
    "print(classification_report(y_test, rf_y_prediction,\n",
    "                            target_names=[\"default\", \"non_default\"]))"
   ]
  },
  {
   "cell_type": "code",
   "execution_count": 11,
   "metadata": {
    "collapsed": true
   },
   "outputs": [],
   "source": [
    "def plot_confusion_matrix(cm, classes,\n",
    "                          normalize=False,\n",
    "                          title='Confusion matrix',\n",
    "                          cmap=plt.cm.Blues):\n",
    "    \"\"\"\n",
    "    This function prints and plots the confusion matrix.\n",
    "    Normalization can be applied by setting `normalize=True`.\n",
    "    \"\"\"\n",
    "    if normalize:\n",
    "        cm = cm.astype('float') / cm.sum(axis=1)[:, np.newaxis]\n",
    "        print(\"Normalized confusion matrix\")\n",
    "    else:\n",
    "        print('Confusion matrix, without normalization')\n",
    "\n",
    "    print(cm)\n",
    "\n",
    "    plt.imshow(cm, interpolation='nearest', cmap=cmap)\n",
    "    plt.title(title)\n",
    "    plt.colorbar()\n",
    "    tick_marks = np.arange(len(classes))\n",
    "    plt.xticks(tick_marks, classes, rotation=45)\n",
    "    plt.yticks(tick_marks, classes)\n",
    "\n",
    "    fmt = '.2f' if normalize else 'd'\n",
    "    thresh = cm.max() / 2.\n",
    "    for i, j in itertools.product(range(cm.shape[0]), range(cm.shape[1])):\n",
    "        plt.text(j, i, format(cm[i, j], fmt),\n",
    "                 horizontalalignment=\"center\",\n",
    "                 color=\"white\" if cm[i, j] > thresh else \"black\")\n",
    "\n",
    "    plt.tight_layout()\n",
    "    plt.ylabel('True label')\n",
    "    plt.xlabel('Predicted label')"
   ]
  },
  {
   "cell_type": "code",
   "execution_count": 12,
   "metadata": {},
   "outputs": [
    {
     "name": "stdout",
     "output_type": "stream",
     "text": [
      "Confusion matrix, without normalization\n",
      "[[7244  498]\n",
      " [1471  687]]\n",
      "Normalized confusion matrix\n",
      "[[ 0.94  0.06]\n",
      " [ 0.68  0.32]]\n"
     ]
    },
    {
     "data": {
      "image/png": "[encoded data removed]",
      "text/plain": [
       "<matplotlib.figure.Figure at 0x1a26c5dcf8>"
      ]
     },
     "metadata": {},
     "output_type": "display_data"
    },
    {
     "data": {
      "image/png": "[encoded data removed]",
      "text/plain": [
       "<matplotlib.figure.Figure at 0x1a19ccdf60>"
      ]
     },
     "metadata": {},
     "output_type": "display_data"
    }
   ],
   "source": [
    "# Compute confusion matrix\n",
    "cnf_matrix = confusion_matrix(y_test, rf_y_prediction)\n",
    "np.set_printoptions(precision=2)\n",
    "\n",
    "# Plot non-normalized confusion matrix\n",
    "plt.figure()\n",
    "plot_confusion_matrix(cnf_matrix, classes=['Defualt', 'Non_default'],\n",
    "                      title='Confusion matrix, without normalization')\n",
    "\n",
    "# Plot normalized confusion matrix\n",
    "plt.figure()\n",
    "plot_confusion_matrix(cnf_matrix, classes=['Defualt', 'Non_default'], normalize=True,\n",
    "                      title='Normalized confusion matrix')\n",
    "\n",
    "plt.show()"
   ]
  },
  {
   "cell_type": "markdown",
   "metadata": {},
   "source": [
    "Explanation of this confusion matrix\n",
    "In our confusion matrix, the non-default classification has a total of 2,158 points and defualt clssification has a total of 7,742 points.\n",
    "\n",
    "It correctly identified 7239 points as default and 503 points as non-default.\n",
    "\n",
    "Non_default classification incorectly predicted 1480 points as default and correctly classified 678 points as Non defualt."
   ]
  },
  {
   "cell_type": "markdown",
   "metadata": {},
   "source": [
    "## Launch Neural Network Model"
   ]
  },
  {
   "cell_type": "code",
   "execution_count": 13,
   "metadata": {
    "collapsed": true
   },
   "outputs": [],
   "source": [
    "X_scaler = StandardScaler().fit(X_train)"
   ]
  },
  {
   "cell_type": "code",
   "execution_count": 14,
   "metadata": {
    "collapsed": true
   },
   "outputs": [],
   "source": [
    "X_train_scaled = X_scaler.transform(X_train)\n",
    "X_test_scaled = X_scaler.transform(X_test)"
   ]
  },
  {
   "cell_type": "code",
   "execution_count": 15,
   "metadata": {
    "collapsed": true
   },
   "outputs": [],
   "source": [
    "y_train_categorical = to_categorical(y_train)\n",
    "y_test_categorical = to_categorical(y_test)"
   ]
  },
  {
   "cell_type": "code",
   "execution_count": 16,
   "metadata": {
    "collapsed": true
   },
   "outputs": [],
   "source": [
    "nn_model = Sequential()"
   ]
  },
  {
   "cell_type": "code",
   "execution_count": 17,
   "metadata": {
    "collapsed": true
   },
   "outputs": [],
   "source": [
    "nn_model.add(Dense(units = 30, activation ='relu', input_dim=10))\n",
    "nn_model.add(Dense(units = 20, activation ='relu')) #second hidden layer"
   ]
  },
  {
   "cell_type": "code",
   "execution_count": 18,
   "metadata": {
    "collapsed": true
   },
   "outputs": [],
   "source": [
    "\n",
    "nn_model.add(Dense(units = 2, activation = 'softmax'))"
   ]
  },
  {
   "cell_type": "code",
   "execution_count": 19,
   "metadata": {},
   "outputs": [
    {
     "name": "stdout",
     "output_type": "stream",
     "text": [
      "_________________________________________________________________\n",
      "Layer (type)                 Output Shape              Param #   \n",
      "=================================================================\n",
      "dense_1 (Dense)              (None, 30)                330       \n",
      "_________________________________________________________________\n",
      "dense_2 (Dense)              (None, 20)                620       \n",
      "_________________________________________________________________\n",
      "dense_3 (Dense)              (None, 2)                 42        \n",
      "=================================================================\n",
      "Total params: 992\n",
      "Trainable params: 992\n",
      "Non-trainable params: 0\n",
      "_________________________________________________________________\n"
     ]
    }
   ],
   "source": [
    "nn_model.summary()"
   ]
  },
  {
   "cell_type": "code",
   "execution_count": 20,
   "metadata": {
    "collapsed": true
   },
   "outputs": [],
   "source": [
    "#compile the model\n",
    "nn_model.compile(optimizer = 'adam' ,\n",
    "             loss = 'categorical_crossentropy',\n",
    "             metrics =['accuracy'])"
   ]
  },
  {
   "cell_type": "code",
   "execution_count": 21,
   "metadata": {},
   "outputs": [
    {
     "name": "stdout",
     "output_type": "stream",
     "text": [
      "Epoch 1/100\n",
      " - 1s - loss: 0.4912 - acc: 0.7916\n",
      "Epoch 2/100\n",
      " - 1s - loss: 0.4653 - acc: 0.8052\n",
      "Epoch 3/100\n",
      " - 1s - loss: 0.4576 - acc: 0.8051\n",
      "Epoch 4/100\n",
      " - 1s - loss: 0.4551 - acc: 0.8061\n",
      "Epoch 5/100\n",
      " - 1s - loss: 0.4533 - acc: 0.8064\n",
      "Epoch 6/100\n",
      " - 1s - loss: 0.4503 - acc: 0.8066\n",
      "Epoch 7/100\n",
      " - 1s - loss: 0.4496 - acc: 0.8070\n",
      "Epoch 8/100\n",
      " - 1s - loss: 0.4486 - acc: 0.8068\n",
      "Epoch 9/100\n",
      " - 1s - loss: 0.4481 - acc: 0.8074\n",
      "Epoch 10/100\n",
      " - 1s - loss: 0.4463 - acc: 0.8086\n",
      "Epoch 11/100\n",
      " - 1s - loss: 0.4457 - acc: 0.8073\n",
      "Epoch 12/100\n",
      " - 1s - loss: 0.4448 - acc: 0.8072\n",
      "Epoch 13/100\n",
      " - 1s - loss: 0.4443 - acc: 0.8082\n",
      "Epoch 14/100\n",
      " - 1s - loss: 0.4449 - acc: 0.8082\n",
      "Epoch 15/100\n",
      " - 1s - loss: 0.4438 - acc: 0.8077\n",
      "Epoch 16/100\n",
      " - 1s - loss: 0.4433 - acc: 0.8078\n",
      "Epoch 17/100\n",
      " - 1s - loss: 0.4425 - acc: 0.8084\n",
      "Epoch 18/100\n",
      " - 1s - loss: 0.4426 - acc: 0.8089\n",
      "Epoch 19/100\n",
      " - 1s - loss: 0.4418 - acc: 0.8079\n",
      "Epoch 20/100\n",
      " - 1s - loss: 0.4413 - acc: 0.8083\n",
      "Epoch 21/100\n",
      " - 1s - loss: 0.4415 - acc: 0.8083\n",
      "Epoch 22/100\n",
      " - 1s - loss: 0.4408 - acc: 0.8095\n",
      "Epoch 23/100\n",
      " - 1s - loss: 0.4406 - acc: 0.8096\n",
      "Epoch 24/100\n",
      " - 1s - loss: 0.4405 - acc: 0.8087\n",
      "Epoch 25/100\n",
      " - 1s - loss: 0.4395 - acc: 0.8085\n",
      "Epoch 26/100\n",
      " - 1s - loss: 0.4390 - acc: 0.8089\n",
      "Epoch 27/100\n",
      " - 1s - loss: 0.4393 - acc: 0.8093\n",
      "Epoch 28/100\n",
      " - 1s - loss: 0.4394 - acc: 0.8101\n",
      "Epoch 29/100\n",
      " - 1s - loss: 0.4388 - acc: 0.8093\n",
      "Epoch 30/100\n",
      " - 1s - loss: 0.4387 - acc: 0.8092\n",
      "Epoch 31/100\n",
      " - 1s - loss: 0.4386 - acc: 0.8090\n",
      "Epoch 32/100\n",
      " - 1s - loss: 0.4380 - acc: 0.8088\n",
      "Epoch 33/100\n",
      " - 1s - loss: 0.4380 - acc: 0.8087\n",
      "Epoch 34/100\n",
      " - 1s - loss: 0.4370 - acc: 0.8098\n",
      "Epoch 35/100\n",
      " - 1s - loss: 0.4372 - acc: 0.8087\n",
      "Epoch 36/100\n",
      " - 1s - loss: 0.4372 - acc: 0.8097\n",
      "Epoch 37/100\n",
      " - 1s - loss: 0.4370 - acc: 0.8094\n",
      "Epoch 38/100\n",
      " - 1s - loss: 0.4365 - acc: 0.8093\n",
      "Epoch 39/100\n",
      " - 1s - loss: 0.4363 - acc: 0.8099\n",
      "Epoch 40/100\n",
      " - 1s - loss: 0.4358 - acc: 0.8100\n",
      "Epoch 41/100\n",
      " - 1s - loss: 0.4351 - acc: 0.8096\n",
      "Epoch 42/100\n",
      " - 1s - loss: 0.4349 - acc: 0.8112\n",
      "Epoch 43/100\n",
      " - 1s - loss: 0.4354 - acc: 0.8116\n",
      "Epoch 44/100\n",
      " - 1s - loss: 0.4358 - acc: 0.8100\n",
      "Epoch 45/100\n",
      " - 1s - loss: 0.4352 - acc: 0.8112\n",
      "Epoch 46/100\n",
      " - 1s - loss: 0.4343 - acc: 0.8106\n",
      "Epoch 47/100\n",
      " - 1s - loss: 0.4339 - acc: 0.8107\n",
      "Epoch 48/100\n",
      " - 1s - loss: 0.4343 - acc: 0.8109\n",
      "Epoch 49/100\n",
      " - 1s - loss: 0.4339 - acc: 0.8109\n",
      "Epoch 50/100\n",
      " - 1s - loss: 0.4337 - acc: 0.8103\n",
      "Epoch 51/100\n",
      " - 1s - loss: 0.4342 - acc: 0.8102\n",
      "Epoch 52/100\n",
      " - 1s - loss: 0.4334 - acc: 0.8106\n",
      "Epoch 53/100\n",
      " - 1s - loss: 0.4337 - acc: 0.8111\n",
      "Epoch 54/100\n",
      " - 1s - loss: 0.4337 - acc: 0.8101\n",
      "Epoch 55/100\n",
      " - 1s - loss: 0.4328 - acc: 0.8125\n",
      "Epoch 56/100\n",
      " - 1s - loss: 0.4326 - acc: 0.8121\n",
      "Epoch 57/100\n",
      " - 1s - loss: 0.4322 - acc: 0.8119\n",
      "Epoch 58/100\n",
      " - 1s - loss: 0.4329 - acc: 0.8107\n",
      "Epoch 59/100\n",
      " - 1s - loss: 0.4320 - acc: 0.8108\n",
      "Epoch 60/100\n",
      " - 1s - loss: 0.4325 - acc: 0.8129\n",
      "Epoch 61/100\n",
      " - 1s - loss: 0.4321 - acc: 0.8108\n",
      "Epoch 62/100\n",
      " - 1s - loss: 0.4318 - acc: 0.8106\n",
      "Epoch 63/100\n",
      " - 1s - loss: 0.4319 - acc: 0.8123\n",
      "Epoch 64/100\n",
      " - 1s - loss: 0.4318 - acc: 0.8122\n",
      "Epoch 65/100\n",
      " - 1s - loss: 0.4317 - acc: 0.8110\n",
      "Epoch 66/100\n",
      " - 1s - loss: 0.4314 - acc: 0.8115\n",
      "Epoch 67/100\n",
      " - 1s - loss: 0.4312 - acc: 0.8125\n",
      "Epoch 68/100\n",
      " - 1s - loss: 0.4313 - acc: 0.8122\n",
      "Epoch 69/100\n",
      " - 1s - loss: 0.4312 - acc: 0.8131\n",
      "Epoch 70/100\n",
      " - 1s - loss: 0.4311 - acc: 0.8114\n",
      "Epoch 71/100\n",
      " - 1s - loss: 0.4305 - acc: 0.8128\n",
      "Epoch 72/100\n",
      " - 1s - loss: 0.4302 - acc: 0.8122\n",
      "Epoch 73/100\n",
      " - 1s - loss: 0.4309 - acc: 0.8134\n",
      "Epoch 74/100\n",
      " - 1s - loss: 0.4304 - acc: 0.8123\n",
      "Epoch 75/100\n",
      " - 1s - loss: 0.4303 - acc: 0.8146\n",
      "Epoch 76/100\n",
      " - 1s - loss: 0.4301 - acc: 0.8117\n",
      "Epoch 77/100\n",
      " - 1s - loss: 0.4307 - acc: 0.8109\n",
      "Epoch 78/100\n",
      " - 1s - loss: 0.4299 - acc: 0.8131\n",
      "Epoch 79/100\n",
      " - 1s - loss: 0.4298 - acc: 0.8132\n",
      "Epoch 80/100\n",
      " - 1s - loss: 0.4300 - acc: 0.8117\n",
      "Epoch 81/100\n",
      " - 1s - loss: 0.4297 - acc: 0.8120\n",
      "Epoch 82/100\n",
      " - 1s - loss: 0.4291 - acc: 0.8128\n",
      "Epoch 83/100\n",
      " - 1s - loss: 0.4299 - acc: 0.8122\n",
      "Epoch 84/100\n",
      " - 1s - loss: 0.4295 - acc: 0.8130\n",
      "Epoch 85/100\n",
      " - 1s - loss: 0.4291 - acc: 0.8114\n",
      "Epoch 86/100\n",
      " - 1s - loss: 0.4289 - acc: 0.8135\n",
      "Epoch 87/100\n",
      " - 1s - loss: 0.4291 - acc: 0.8136\n",
      "Epoch 88/100\n",
      " - 1s - loss: 0.4282 - acc: 0.8142\n",
      "Epoch 89/100\n",
      " - 1s - loss: 0.4290 - acc: 0.8138\n",
      "Epoch 90/100\n",
      " - 1s - loss: 0.4284 - acc: 0.8130\n",
      "Epoch 91/100\n",
      " - 1s - loss: 0.4284 - acc: 0.8138\n",
      "Epoch 92/100\n",
      " - 1s - loss: 0.4287 - acc: 0.8127\n",
      "Epoch 93/100\n",
      " - 1s - loss: 0.4281 - acc: 0.8121\n",
      "Epoch 94/100\n",
      " - 1s - loss: 0.4284 - acc: 0.8124\n",
      "Epoch 95/100\n",
      " - 1s - loss: 0.4280 - acc: 0.8139\n",
      "Epoch 96/100\n",
      " - 1s - loss: 0.4278 - acc: 0.8137\n",
      "Epoch 97/100\n",
      " - 1s - loss: 0.4276 - acc: 0.8147\n",
      "Epoch 98/100\n",
      " - 1s - loss: 0.4280 - acc: 0.8125\n",
      "Epoch 99/100\n",
      " - 1s - loss: 0.4280 - acc: 0.8127\n",
      "Epoch 100/100\n",
      " - 1s - loss: 0.4275 - acc: 0.8136\n"
     ]
    },
    {
     "data": {
      "text/plain": [
       "<keras.callbacks.History at 0x1a26c5d7b8>"
      ]
     },
     "execution_count": 21,
     "metadata": {},
     "output_type": "execute_result"
    }
   ],
   "source": [
    "#train the model\n",
    "\n",
    "nn_model.fit(X_train_scaled, y_train_categorical, epochs=100,shuffle = True,verbose =2)"
   ]
  },
  {
   "cell_type": "code",
   "execution_count": 22,
   "metadata": {},
   "outputs": [
    {
     "name": "stdout",
     "output_type": "stream",
     "text": [
      "0.454303949722\n",
      "0.800909090909\n"
     ]
    }
   ],
   "source": [
    "model_loss, model_accuracy = nn_model.evaluate(X_test_scaled,y_test_categorical,verbose =2)\n",
    "print( model_loss )\n",
    "print (model_accuracy)"
   ]
  },
  {
   "cell_type": "code",
   "execution_count": 24,
   "metadata": {},
   "outputs": [],
   "source": [
    "nn_y_prediction = nn_model.predict_classes(X_test)"
   ]
  },
  {
   "cell_type": "code",
   "execution_count": 36,
   "metadata": {},
   "outputs": [],
   "source": [
    "nn_roc_auc = roc_auc_score(y_test, nn_model.predict_classes(X_test))"
   ]
  },
  {
   "cell_type": "code",
   "execution_count": 25,
   "metadata": {
    "scrolled": true
   },
   "outputs": [
    {
     "name": "stdout",
     "output_type": "stream",
     "text": [
      "             precision    recall  f1-score   support\n",
      "\n",
      "    default       0.81      0.77      0.79      7742\n",
      "non_default       0.30      0.36      0.32      2158\n",
      "\n",
      "avg / total       0.70      0.68      0.69      9900\n",
      "\n"
     ]
    }
   ],
   "source": [
    "print(classification_report(y_test, nn_y_prediction,\n",
    "                            target_names=[\"default\", \"non_default\"]))"
   ]
  },
  {
   "cell_type": "code",
   "execution_count": 26,
   "metadata": {},
   "outputs": [
    {
     "name": "stdout",
     "output_type": "stream",
     "text": [
      "Confusion matrix, without normalization\n",
      "[[5923 1819]\n",
      " [1387  771]]\n",
      "Normalized confusion matrix\n",
      "[[ 0.77  0.23]\n",
      " [ 0.64  0.36]]\n"
     ]
    },
    {
     "data": {
      "image/png": "[encoded data removed]",
      "text/plain": [
       "<matplotlib.figure.Figure at 0x1a2a4a9e80>"
      ]
     },
     "metadata": {},
     "output_type": "display_data"
    },
    {
     "data": {
      "image/png": "[encoded data removed]",
      "text/plain": [
       "<matplotlib.figure.Figure at 0x1a2abffdd8>"
      ]
     },
     "metadata": {},
     "output_type": "display_data"
    }
   ],
   "source": [
    "# Compute confusion matrix\n",
    "cnf_matrix = confusion_matrix(y_test, nn_y_prediction)\n",
    "np.set_printoptions(precision=2)\n",
    "\n",
    "# Plot non-normalized confusion matrix\n",
    "plt.figure()\n",
    "plot_confusion_matrix(cnf_matrix, classes=['Defualt', 'Non_default'],\n",
    "                      title='Confusion matrix, without normalization')\n",
    "\n",
    "# Plot normalized confusion matrix\n",
    "plt.figure()\n",
    "plot_confusion_matrix(cnf_matrix, classes=['Defualt', 'Non_default'], normalize=True,\n",
    "                      title='Normalized confusion matrix')\n",
    "\n",
    "plt.show()"
   ]
  },
  {
   "cell_type": "markdown",
   "metadata": {},
   "source": [
    "## Logistic Regression Model "
   ]
  },
  {
   "cell_type": "code",
   "execution_count": 27,
   "metadata": {},
   "outputs": [
    {
     "data": {
      "text/plain": [
       "LogisticRegression(C=1.0, class_weight=None, dual=False, fit_intercept=True,\n",
       "          intercept_scaling=1, max_iter=100, multi_class='ovr', n_jobs=1,\n",
       "          penalty='l2', random_state=None, solver='liblinear', tol=0.0001,\n",
       "          verbose=0, warm_start=False)"
      ]
     },
     "execution_count": 27,
     "metadata": {},
     "output_type": "execute_result"
    }
   ],
   "source": [
    "#creating logistic regression model\n",
    "classifier = LogisticRegression()\n",
    "classifier"
   ]
  },
  {
   "cell_type": "code",
   "execution_count": 28,
   "metadata": {},
   "outputs": [
    {
     "data": {
      "text/plain": [
       "LogisticRegression(C=1.0, class_weight=None, dual=False, fit_intercept=True,\n",
       "          intercept_scaling=1, max_iter=100, multi_class='ovr', n_jobs=1,\n",
       "          penalty='l2', random_state=None, solver='liblinear', tol=0.0001,\n",
       "          verbose=0, warm_start=False)"
      ]
     },
     "execution_count": 28,
     "metadata": {},
     "output_type": "execute_result"
    }
   ],
   "source": [
    "#fitting the model\n",
    "classifier.fit(X_train, y_train) "
   ]
  },
  {
   "cell_type": "code",
   "execution_count": 29,
   "metadata": {
    "collapsed": true
   },
   "outputs": [],
   "source": [
    "log_y_prediction = classifier.predict(X_test)"
   ]
  },
  {
   "cell_type": "code",
   "execution_count": 37,
   "metadata": {
    "collapsed": true
   },
   "outputs": [],
   "source": [
    "log_roc_auc = roc_auc_score(y_test, classifier.predict(X_test))"
   ]
  },
  {
   "cell_type": "code",
   "execution_count": 30,
   "metadata": {},
   "outputs": [
    {
     "name": "stdout",
     "output_type": "stream",
     "text": [
      "             precision    recall  f1-score   support\n",
      "\n",
      "    default       0.81      0.98      0.88      7742\n",
      "non_default       0.64      0.16      0.25      2158\n",
      "\n",
      "avg / total       0.77      0.80      0.74      9900\n",
      "\n"
     ]
    }
   ],
   "source": [
    "print(classification_report(y_test, log_y_prediction,\n",
    "                            target_names=[\"default\", \"non_default\"]))"
   ]
  },
  {
   "cell_type": "code",
   "execution_count": 32,
   "metadata": {},
   "outputs": [
    {
     "name": "stdout",
     "output_type": "stream",
     "text": [
      "Confusion matrix, without normalization\n",
      "[[7555  187]\n",
      " [1823  335]]\n",
      "Normalized confusion matrix\n",
      "[[ 0.98  0.02]\n",
      " [ 0.84  0.16]]\n"
     ]
    },
    {
     "data": {
      "image/png": "[encoded data removed]",
      "text/plain": [
       "<matplotlib.figure.Figure at 0x1a19c6def0>"
      ]
     },
     "metadata": {},
     "output_type": "display_data"
    },
    {
     "data": {
      "image/png": "[encoded data removed]",
      "text/plain": [
       "<matplotlib.figure.Figure at 0x1a2acb6ba8>"
      ]
     },
     "metadata": {},
     "output_type": "display_data"
    }
   ],
   "source": [
    "cnf_matrix = confusion_matrix(y_test, log_y_prediction)\n",
    "np.set_printoptions(precision=2)\n",
    "\n",
    "# Plot non-normalized confusion matrix\n",
    "plt.figure()\n",
    "plot_confusion_matrix(cnf_matrix, classes=['Defualt', 'Non_default'],\n",
    "                      title='Confusion matrix, without normalization')\n",
    "\n",
    "# Plot normalized confusion matrix\n",
    "plt.figure()\n",
    "plot_confusion_matrix(cnf_matrix, classes=['Defualt', 'Non_default'], normalize=True,\n",
    "                      title='Normalized confusion matrix')\n",
    "\n",
    "plt.show()"
   ]
  },
  {
   "cell_type": "code",
   "execution_count": 39,
   "metadata": {},
   "outputs": [
    {
     "data": {
      "image/png": "[encoded data removed]",
      "text/plain": [
       "<matplotlib.figure.Figure at 0x1a26c1c0b8>"
      ]
     },
     "metadata": {},
     "output_type": "display_data"
    }
   ],
   "source": [
    "fpr, tpr, thresholds = roc_curve(y_test, classifier.predict_proba(X_test)[:,1])\n",
    "rf_fpr, rf_tpr, rf_thresholds = roc_curve(y_test, rf.predict_proba(X_test)[:,1])\n",
    "nn_fpr, nn_tpr, nn_thresholds = roc_curve(y_test, nn_model.predict_proba(X_test)[:,1])\n",
    "\n",
    "plt.figure()\n",
    "\n",
    "# Plot Logistic Regression ROC\n",
    "plt.plot(fpr, tpr, label='Logistic Regression (area = %0.2f)' % log_roc_auc)\n",
    "\n",
    "# Plot Random Forest ROC\n",
    "plt.plot(rf_fpr, rf_tpr, label='Random Forest (area = %0.2f)' % rf_roc_auc)\n",
    "\n",
    "# Plot Decision Tree ROC\n",
    "plt.plot(nn_fpr, nn_tpr, label='Neural Network (area = %0.2f)' % nn_roc_auc)\n",
    "\n",
    "# Plot Base Rate ROC\n",
    "plt.plot([0,1], [0,1],label='Base Rate' 'k--')\n",
    "\n",
    "plt.xlim([0.0, 1.0])\n",
    "plt.ylim([0.0, 1.05])\n",
    "plt.xlabel('False Positive Rate')\n",
    "plt.ylabel('True Positive Rate')\n",
    "plt.title('ROC Graph')\n",
    "plt.legend(loc=\"lower right\")\n",
    "plt.savefig('WebDev/Images/ROC.png')\n",
    "plt.show()"
   ]
  },
  {
   "cell_type": "code",
   "execution_count": null,
   "metadata": {
    "collapsed": true
   },
   "outputs": [],
   "source": []
  }
 ],
 "metadata": {
  "kernelspec": {
   "display_name": "Python 3",
   "language": "python",
   "name": "python3"
  },
  "language_info": {
   "codemirror_mode": {
    "name": "ipython",
    "version": 3
   },
   "file_extension": ".py",
   "mimetype": "text/x-python",
   "name": "python",
   "nbconvert_exporter": "python",
   "pygments_lexer": "ipython3",
   "version": "3.6.3"
  }
 },
 "nbformat": 4,
 "nbformat_minor": 2
}
