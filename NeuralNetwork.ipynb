{
 "cells": [
  {
   "cell_type": "code",
   "execution_count": 35,
   "metadata": {},
   "outputs": [],
   "source": [
    "from sklearn.model_selection import train_test_split\n",
    "import pandas as pd\n",
    "import numpy as np\n",
    "from sklearn.preprocessing import StandardScaler\n",
    "from keras.utils import to_categorical\n",
    "from keras.models import Sequential\n",
    "from keras.layers import Dense"
   ]
  },
  {
   "cell_type": "code",
   "execution_count": 37,
   "metadata": {},
   "outputs": [
    {
     "data": {
      "text/html": [
       "<div>\n",
       "<style>\n",
       "    .dataframe thead tr:only-child th {\n",
       "        text-align: right;\n",
       "    }\n",
       "\n",
       "    .dataframe thead th {\n",
       "        text-align: left;\n",
       "    }\n",
       "\n",
       "    .dataframe tbody tr th {\n",
       "        vertical-align: top;\n",
       "    }\n",
       "</style>\n",
       "<table border=\"1\" class=\"dataframe\">\n",
       "  <thead>\n",
       "    <tr style=\"text-align: right;\">\n",
       "      <th></th>\n",
       "      <th>LIMIT_BAL_US</th>\n",
       "      <th>SEX</th>\n",
       "      <th>EDUCATION</th>\n",
       "      <th>MARRIAGE</th>\n",
       "      <th>AGE</th>\n",
       "      <th>PAY_SCORE_AVG</th>\n",
       "      <th>BILL_AVG_US</th>\n",
       "      <th>PAY_AMT_AVG_US</th>\n",
       "      <th>PAY_TO_BILL</th>\n",
       "      <th>CREDIT_UTILIZATION</th>\n",
       "      <th>DEFAULT_PAYMENT_NEXT_MO</th>\n",
       "    </tr>\n",
       "  </thead>\n",
       "  <tbody>\n",
       "    <tr>\n",
       "      <th>0</th>\n",
       "      <td>725.714286</td>\n",
       "      <td>2</td>\n",
       "      <td>2</td>\n",
       "      <td>1</td>\n",
       "      <td>24</td>\n",
       "      <td>-0.33</td>\n",
       "      <td>46.590857</td>\n",
       "      <td>4.166810</td>\n",
       "      <td>0.09</td>\n",
       "      <td>0.195650</td>\n",
       "      <td>1</td>\n",
       "    </tr>\n",
       "    <tr>\n",
       "      <th>1</th>\n",
       "      <td>4354.285714</td>\n",
       "      <td>2</td>\n",
       "      <td>2</td>\n",
       "      <td>2</td>\n",
       "      <td>26</td>\n",
       "      <td>0.50</td>\n",
       "      <td>103.275191</td>\n",
       "      <td>30.238095</td>\n",
       "      <td>0.29</td>\n",
       "      <td>0.022350</td>\n",
       "      <td>1</td>\n",
       "    </tr>\n",
       "    <tr>\n",
       "      <th>2</th>\n",
       "      <td>3265.714286</td>\n",
       "      <td>2</td>\n",
       "      <td>2</td>\n",
       "      <td>2</td>\n",
       "      <td>34</td>\n",
       "      <td>0.00</td>\n",
       "      <td>614.758619</td>\n",
       "      <td>66.632667</td>\n",
       "      <td>0.11</td>\n",
       "      <td>0.324878</td>\n",
       "      <td>0</td>\n",
       "    </tr>\n",
       "    <tr>\n",
       "      <th>3</th>\n",
       "      <td>1814.285714</td>\n",
       "      <td>2</td>\n",
       "      <td>2</td>\n",
       "      <td>1</td>\n",
       "      <td>37</td>\n",
       "      <td>0.00</td>\n",
       "      <td>1399.019905</td>\n",
       "      <td>50.727429</td>\n",
       "      <td>0.04</td>\n",
       "      <td>0.939800</td>\n",
       "      <td>0</td>\n",
       "    </tr>\n",
       "    <tr>\n",
       "      <th>4</th>\n",
       "      <td>1814.285714</td>\n",
       "      <td>1</td>\n",
       "      <td>2</td>\n",
       "      <td>1</td>\n",
       "      <td>57</td>\n",
       "      <td>-0.33</td>\n",
       "      <td>661.240619</td>\n",
       "      <td>357.105857</td>\n",
       "      <td>0.54</td>\n",
       "      <td>0.172340</td>\n",
       "      <td>0</td>\n",
       "    </tr>\n",
       "  </tbody>\n",
       "</table>\n",
       "</div>"
      ],
      "text/plain": [
       "   LIMIT_BAL_US  SEX  EDUCATION  MARRIAGE  AGE  PAY_SCORE_AVG  BILL_AVG_US  \\\n",
       "0    725.714286    2          2         1   24          -0.33    46.590857   \n",
       "1   4354.285714    2          2         2   26           0.50   103.275191   \n",
       "2   3265.714286    2          2         2   34           0.00   614.758619   \n",
       "3   1814.285714    2          2         1   37           0.00  1399.019905   \n",
       "4   1814.285714    1          2         1   57          -0.33   661.240619   \n",
       "\n",
       "   PAY_AMT_AVG_US  PAY_TO_BILL  CREDIT_UTILIZATION  DEFAULT_PAYMENT_NEXT_MO  \n",
       "0        4.166810         0.09            0.195650                        1  \n",
       "1       30.238095         0.29            0.022350                        1  \n",
       "2       66.632667         0.11            0.324878                        0  \n",
       "3       50.727429         0.04            0.939800                        0  \n",
       "4      357.105857         0.54            0.172340                        0  "
      ]
     },
     "execution_count": 37,
     "metadata": {},
     "output_type": "execute_result"
    }
   ],
   "source": [
    "df = pd.read_csv(\"Data_USD.csv\")\n",
    "df.head()"
   ]
  },
  {
   "cell_type": "code",
   "execution_count": 40,
   "metadata": {},
   "outputs": [
    {
     "name": "stdout",
     "output_type": "stream",
     "text": [
      "(30000, 10)\n",
      "(30000,)\n"
     ]
    }
   ],
   "source": [
    "# X = df.drop('Y_Value',axis =1).values\n",
    "# y = df['Y_Value'].values\n",
    "X = df.drop('DEFAULT_PAYMENT_NEXT_MO',axis =1).values\n",
    "y = df['DEFAULT_PAYMENT_NEXT_MO'].values\n",
    "print(X.shape)\n",
    "print(y.shape)"
   ]
  },
  {
   "cell_type": "code",
   "execution_count": 41,
   "metadata": {
    "collapsed": true
   },
   "outputs": [],
   "source": [
    "X_train, X_test, y_train, y_test = train_test_split (X,y,random_state=1)"
   ]
  },
  {
   "cell_type": "code",
   "execution_count": 42,
   "metadata": {},
   "outputs": [],
   "source": [
    "from sklearn.preprocessing import StandardScaler\n",
    "\n",
    "X_scaler = StandardScaler().fit(X_train)"
   ]
  },
  {
   "cell_type": "code",
   "execution_count": 43,
   "metadata": {},
   "outputs": [],
   "source": [
    "X_train_scaled = X_scaler.transform(X_train)\n",
    "X_test_scaled = X_scaler.transform(X_test)"
   ]
  },
  {
   "cell_type": "code",
   "execution_count": 44,
   "metadata": {
    "collapsed": true
   },
   "outputs": [],
   "source": [
    "y_train_categorical = to_categorical(y_train)\n",
    "y_test_categorical = to_categorical(y_test)"
   ]
  },
  {
   "cell_type": "code",
   "execution_count": 45,
   "metadata": {
    "collapsed": true
   },
   "outputs": [],
   "source": [
    "from keras.models import Sequential\n",
    "\n",
    "#instantiate\n",
    "model = Sequential()"
   ]
  },
  {
   "cell_type": "code",
   "execution_count": 46,
   "metadata": {
    "collapsed": true
   },
   "outputs": [],
   "source": [
    "from keras.layers import Dense\n",
    "\n",
    "number_inputs = 10\n",
    "number_hidden = 30\n",
    "\n",
    "model.add(Dense(units = number_hidden, activation ='relu', input_dim=number_inputs))\n",
    "model.add(Dense(units = 10, activation ='relu')) #second hidden layer"
   ]
  },
  {
   "cell_type": "code",
   "execution_count": 47,
   "metadata": {
    "collapsed": true
   },
   "outputs": [],
   "source": [
    "number_classes =2 ## yes or no\n",
    "model.add(Dense(units = number_classes, activation = 'softmax'))"
   ]
  },
  {
   "cell_type": "code",
   "execution_count": 48,
   "metadata": {},
   "outputs": [
    {
     "name": "stdout",
     "output_type": "stream",
     "text": [
      "_________________________________________________________________\n",
      "Layer (type)                 Output Shape              Param #   \n",
      "=================================================================\n",
      "dense_4 (Dense)              (None, 30)                330       \n",
      "_________________________________________________________________\n",
      "dense_5 (Dense)              (None, 10)                310       \n",
      "_________________________________________________________________\n",
      "dense_6 (Dense)              (None, 2)                 22        \n",
      "=================================================================\n",
      "Total params: 662\n",
      "Trainable params: 662\n",
      "Non-trainable params: 0\n",
      "_________________________________________________________________\n"
     ]
    }
   ],
   "source": [
    "model.summary()"
   ]
  },
  {
   "cell_type": "code",
   "execution_count": 49,
   "metadata": {
    "collapsed": true
   },
   "outputs": [],
   "source": [
    "#compile the model\n",
    "model.compile(optimizer = 'adam' ,\n",
    "             loss = 'categorical_crossentropy',\n",
    "             metrics =['accuracy'])"
   ]
  },
  {
   "cell_type": "code",
   "execution_count": 50,
   "metadata": {},
   "outputs": [
    {
     "name": "stdout",
     "output_type": "stream",
     "text": [
      "Epoch 1/100\n",
      " - 2s - loss: 0.4894 - acc: 0.7944\n",
      "Epoch 2/100\n",
      " - 1s - loss: 0.4648 - acc: 0.8036\n",
      "Epoch 3/100\n",
      " - 1s - loss: 0.4572 - acc: 0.8060\n",
      "Epoch 4/100\n",
      " - 1s - loss: 0.4531 - acc: 0.8082\n",
      "Epoch 5/100\n",
      " - 1s - loss: 0.4504 - acc: 0.8074\n",
      "Epoch 6/100\n",
      " - 1s - loss: 0.4493 - acc: 0.8074\n",
      "Epoch 7/100\n",
      " - 1s - loss: 0.4478 - acc: 0.8077\n",
      "Epoch 8/100\n",
      " - 1s - loss: 0.4461 - acc: 0.8074\n",
      "Epoch 9/100\n",
      " - 1s - loss: 0.4457 - acc: 0.8071\n",
      "Epoch 10/100\n",
      " - 1s - loss: 0.4450 - acc: 0.8077\n",
      "Epoch 11/100\n",
      " - 1s - loss: 0.4443 - acc: 0.8073\n",
      "Epoch 12/100\n",
      " - 1s - loss: 0.4432 - acc: 0.8077\n",
      "Epoch 13/100\n",
      " - 2s - loss: 0.4433 - acc: 0.8078\n",
      "Epoch 14/100\n",
      " - 1s - loss: 0.4425 - acc: 0.8076\n",
      "Epoch 15/100\n",
      " - 1s - loss: 0.4417 - acc: 0.8083\n",
      "Epoch 16/100\n",
      " - 1s - loss: 0.4418 - acc: 0.8084\n",
      "Epoch 17/100\n",
      " - 1s - loss: 0.4413 - acc: 0.8083\n",
      "Epoch 18/100\n",
      " - 1s - loss: 0.4410 - acc: 0.8076\n",
      "Epoch 19/100\n",
      " - 1s - loss: 0.4407 - acc: 0.8092\n",
      "Epoch 20/100\n",
      " - 2s - loss: 0.4405 - acc: 0.8083\n",
      "Epoch 21/100\n",
      " - 1s - loss: 0.4403 - acc: 0.8089\n",
      "Epoch 22/100\n",
      " - 1s - loss: 0.4399 - acc: 0.8088\n",
      "Epoch 23/100\n",
      " - 1s - loss: 0.4398 - acc: 0.8083\n",
      "Epoch 24/100\n",
      " - 1s - loss: 0.4397 - acc: 0.8093\n",
      "Epoch 25/100\n",
      " - 1s - loss: 0.4397 - acc: 0.8085\n",
      "Epoch 26/100\n",
      " - 1s - loss: 0.4385 - acc: 0.8080\n",
      "Epoch 27/100\n",
      " - 1s - loss: 0.4386 - acc: 0.8089\n",
      "Epoch 28/100\n",
      " - 1s - loss: 0.4376 - acc: 0.8090\n",
      "Epoch 29/100\n",
      " - 1s - loss: 0.4380 - acc: 0.8088\n",
      "Epoch 30/100\n",
      " - 1s - loss: 0.4380 - acc: 0.8090\n",
      "Epoch 31/100\n",
      " - 1s - loss: 0.4377 - acc: 0.8099\n",
      "Epoch 32/100\n",
      " - 1s - loss: 0.4379 - acc: 0.8093\n",
      "Epoch 33/100\n",
      " - 1s - loss: 0.4376 - acc: 0.8091\n",
      "Epoch 34/100\n",
      " - 1s - loss: 0.4370 - acc: 0.8088\n",
      "Epoch 35/100\n",
      " - 1s - loss: 0.4375 - acc: 0.8100\n",
      "Epoch 36/100\n",
      " - 1s - loss: 0.4371 - acc: 0.8089\n",
      "Epoch 37/100\n",
      " - 1s - loss: 0.4368 - acc: 0.8088\n",
      "Epoch 38/100\n",
      " - 1s - loss: 0.4365 - acc: 0.8090\n",
      "Epoch 39/100\n",
      " - 1s - loss: 0.4365 - acc: 0.8085\n",
      "Epoch 40/100\n",
      " - 1s - loss: 0.4366 - acc: 0.8099\n",
      "Epoch 41/100\n",
      " - 1s - loss: 0.4357 - acc: 0.8096\n",
      "Epoch 42/100\n",
      " - 1s - loss: 0.4363 - acc: 0.8100\n",
      "Epoch 43/100\n",
      " - 1s - loss: 0.4358 - acc: 0.8086\n",
      "Epoch 44/100\n",
      " - 1s - loss: 0.4360 - acc: 0.8098\n",
      "Epoch 45/100\n",
      " - 2s - loss: 0.4350 - acc: 0.8095\n",
      "Epoch 46/100\n",
      " - 1s - loss: 0.4356 - acc: 0.8098\n",
      "Epoch 47/100\n",
      " - 1s - loss: 0.4358 - acc: 0.8089\n",
      "Epoch 48/100\n",
      " - 2s - loss: 0.4354 - acc: 0.8103\n",
      "Epoch 49/100\n",
      " - 2s - loss: 0.4349 - acc: 0.8095\n",
      "Epoch 50/100\n",
      " - 2s - loss: 0.4346 - acc: 0.8091\n",
      "Epoch 51/100\n",
      " - 2s - loss: 0.4347 - acc: 0.8096\n",
      "Epoch 52/100\n",
      " - 1s - loss: 0.4342 - acc: 0.8099\n",
      "Epoch 53/100\n",
      " - 2s - loss: 0.4343 - acc: 0.8102\n",
      "Epoch 54/100\n",
      " - 1s - loss: 0.4342 - acc: 0.8100\n",
      "Epoch 55/100\n",
      " - 1s - loss: 0.4343 - acc: 0.8100\n",
      "Epoch 56/100\n",
      " - 1s - loss: 0.4341 - acc: 0.8094\n",
      "Epoch 57/100\n",
      " - 1s - loss: 0.4339 - acc: 0.8098\n",
      "Epoch 58/100\n",
      " - 1s - loss: 0.4338 - acc: 0.8093\n",
      "Epoch 59/100\n",
      " - 1s - loss: 0.4335 - acc: 0.8103\n",
      "Epoch 60/100\n",
      " - 1s - loss: 0.4337 - acc: 0.8100\n",
      "Epoch 61/100\n",
      " - 1s - loss: 0.4333 - acc: 0.8094\n",
      "Epoch 62/100\n",
      " - 1s - loss: 0.4336 - acc: 0.8118\n",
      "Epoch 63/100\n",
      " - 1s - loss: 0.4337 - acc: 0.8107\n",
      "Epoch 64/100\n",
      " - 1s - loss: 0.4329 - acc: 0.8101\n",
      "Epoch 65/100\n",
      " - 1s - loss: 0.4334 - acc: 0.8104\n",
      "Epoch 66/100\n",
      " - 1s - loss: 0.4324 - acc: 0.8106\n",
      "Epoch 67/100\n",
      " - 2s - loss: 0.4326 - acc: 0.8106\n",
      "Epoch 68/100\n",
      " - 2s - loss: 0.4327 - acc: 0.8110\n",
      "Epoch 69/100\n",
      " - 1s - loss: 0.4326 - acc: 0.8093\n",
      "Epoch 70/100\n",
      " - 1s - loss: 0.4324 - acc: 0.8100\n",
      "Epoch 71/100\n",
      " - 1s - loss: 0.4326 - acc: 0.8104\n",
      "Epoch 72/100\n",
      " - 1s - loss: 0.4317 - acc: 0.8113\n",
      "Epoch 73/100\n",
      " - 1s - loss: 0.4321 - acc: 0.8108\n",
      "Epoch 74/100\n",
      " - 2s - loss: 0.4321 - acc: 0.8100\n",
      "Epoch 75/100\n",
      " - 1s - loss: 0.4319 - acc: 0.8108\n",
      "Epoch 76/100\n",
      " - 1s - loss: 0.4319 - acc: 0.8103\n",
      "Epoch 77/100\n",
      " - 2s - loss: 0.4318 - acc: 0.8099\n",
      "Epoch 78/100\n",
      " - 2s - loss: 0.4312 - acc: 0.8109\n",
      "Epoch 79/100\n",
      " - 1s - loss: 0.4311 - acc: 0.8123\n",
      "Epoch 80/100\n",
      " - 1s - loss: 0.4319 - acc: 0.8110\n",
      "Epoch 81/100\n",
      " - 1s - loss: 0.4315 - acc: 0.8098\n",
      "Epoch 82/100\n",
      " - 1s - loss: 0.4316 - acc: 0.8117\n",
      "Epoch 83/100\n",
      " - 1s - loss: 0.4306 - acc: 0.8109\n",
      "Epoch 84/100\n",
      " - 1s - loss: 0.4314 - acc: 0.8109\n",
      "Epoch 85/100\n",
      " - 1s - loss: 0.4310 - acc: 0.8107\n",
      "Epoch 86/100\n",
      " - 1s - loss: 0.4312 - acc: 0.8111\n",
      "Epoch 87/100\n",
      " - 1s - loss: 0.4312 - acc: 0.8119\n",
      "Epoch 88/100\n",
      " - 1s - loss: 0.4308 - acc: 0.8108\n",
      "Epoch 89/100\n",
      " - 1s - loss: 0.4308 - acc: 0.8115\n",
      "Epoch 90/100\n",
      " - 1s - loss: 0.4307 - acc: 0.8110\n",
      "Epoch 91/100\n",
      " - 1s - loss: 0.4305 - acc: 0.8130\n",
      "Epoch 92/100\n",
      " - 1s - loss: 0.4305 - acc: 0.8115\n",
      "Epoch 93/100\n",
      " - 1s - loss: 0.4307 - acc: 0.8112\n",
      "Epoch 94/100\n",
      " - 1s - loss: 0.4302 - acc: 0.8123\n",
      "Epoch 95/100\n",
      " - 1s - loss: 0.4299 - acc: 0.8114\n",
      "Epoch 96/100\n",
      " - 1s - loss: 0.4302 - acc: 0.8117\n",
      "Epoch 97/100\n",
      " - 1s - loss: 0.4304 - acc: 0.8108\n",
      "Epoch 98/100\n",
      " - 1s - loss: 0.4298 - acc: 0.8115\n",
      "Epoch 99/100\n",
      " - 1s - loss: 0.4295 - acc: 0.8106\n",
      "Epoch 100/100\n",
      " - 1s - loss: 0.4301 - acc: 0.8116\n"
     ]
    },
    {
     "data": {
      "text/plain": [
       "<keras.callbacks.History at 0x10b496080>"
      ]
     },
     "execution_count": 50,
     "metadata": {},
     "output_type": "execute_result"
    }
   ],
   "source": [
    "#train the model\n",
    "\n",
    "model.fit(X_train_scaled, y_train_categorical, epochs=100,shuffle = True,verbose =2)"
   ]
  },
  {
   "cell_type": "code",
   "execution_count": 14,
   "metadata": {},
   "outputs": [
    {
     "name": "stdout",
     "output_type": "stream",
     "text": [
      "0.469202428579\n",
      "0.806933333302\n"
     ]
    }
   ],
   "source": [
    "#quantify the model\n",
    "model_loss, model_accuracy = model.evaluate(X_test_scaled,y_test_categorical,verbose =2)\n",
    "print( model_loss )\n",
    "print (model_accuracy)"
   ]
  },
  {
   "cell_type": "markdown",
   "metadata": {},
   "source": [
    "F1, Precision Recall, and Confusion Matrix"
   ]
  },
  {
   "cell_type": "code",
   "execution_count": 23,
   "metadata": {
    "collapsed": true
   },
   "outputs": [],
   "source": [
    "from sklearn.metrics import precision_recall_fscore_support\n",
    "from sklearn.metrics import recall_score\n",
    "from sklearn.metrics import classification_report"
   ]
  },
  {
   "cell_type": "code",
   "execution_count": 24,
   "metadata": {},
   "outputs": [],
   "source": [
    "y_prediction = model.predict_classes(X_test)"
   ]
  },
  {
   "cell_type": "code",
   "execution_count": 25,
   "metadata": {},
   "outputs": [
    {
     "name": "stdout",
     "output_type": "stream",
     "text": [
      "Recall score:0.429856115108\n"
     ]
    }
   ],
   "source": [
    "print(\"Recall score:\"+ str(recall_score(y_test, y_prediction)))"
   ]
  },
  {
   "cell_type": "code",
   "execution_count": 26,
   "metadata": {},
   "outputs": [
    {
     "name": "stdout",
     "output_type": "stream",
     "text": [
      "             precision    recall  f1-score   support\n",
      "\n",
      "    default       0.80      0.65      0.72      5832\n",
      "non_default       0.26      0.43      0.32      1668\n",
      "\n",
      "avg / total       0.68      0.60      0.63      7500\n",
      "\n"
     ]
    }
   ],
   "source": [
    "print(classification_report(y_test, y_prediction,\n",
    "                            target_names=[\"default\", \"non_default\"]))"
   ]
  },
  {
   "cell_type": "code",
   "execution_count": 27,
   "metadata": {
    "collapsed": true
   },
   "outputs": [],
   "source": [
    "import itertools\n",
    "import matplotlib.pyplot as plt\n",
    "from sklearn.metrics import confusion_matrix"
   ]
  },
  {
   "cell_type": "code",
   "execution_count": 33,
   "metadata": {},
   "outputs": [
    {
     "name": "stdout",
     "output_type": "stream",
     "text": [
      "Confusion matrix, without normalization\n",
      "[[3791 2041]\n",
      " [ 951  717]]\n",
      "Normalized confusion matrix\n",
      "[[ 0.65  0.35]\n",
      " [ 0.57  0.43]]\n"
     ]
    },
    {
     "data": {
      "image/png": "[encoded data removed]",
      "text/plain": [
       "<matplotlib.figure.Figure at 0x1a2a695828>"
      ]
     },
     "metadata": {},
     "output_type": "display_data"
    },
    {
     "data": {
      "image/png": "[encoded data removed]",
      "text/plain": [
       "<matplotlib.figure.Figure at 0x1a2a873e80>"
      ]
     },
     "metadata": {},
     "output_type": "display_data"
    }
   ],
   "source": [
    "def plot_confusion_matrix(cm, classes,\n",
    "                          normalize=False,\n",
    "                          title='Confusion matrix',\n",
    "                          cmap=plt.cm.Blues):\n",
    "    \"\"\"\n",
    "    This function prints and plots the confusion matrix.\n",
    "    Normalization can be applied by setting `normalize=True`.\n",
    "    \"\"\"\n",
    "    if normalize:\n",
    "        cm = cm.astype('float') / cm.sum(axis=1)[:, np.newaxis]\n",
    "        print(\"Normalized confusion matrix\")\n",
    "    else:\n",
    "        print('Confusion matrix, without normalization')\n",
    "\n",
    "    print(cm)\n",
    "\n",
    "    plt.imshow(cm, interpolation='nearest', cmap=cmap)\n",
    "    plt.title(title)\n",
    "    plt.colorbar()\n",
    "    tick_marks = np.arange(len(classes))\n",
    "    plt.xticks(tick_marks, classes, rotation=45)\n",
    "    plt.yticks(tick_marks, classes)\n",
    "\n",
    "    fmt = '.2f' if normalize else 'd'\n",
    "    thresh = cm.max() / 2.\n",
    "    for i, j in itertools.product(range(cm.shape[0]), range(cm.shape[1])):\n",
    "        plt.text(j, i, format(cm[i, j], fmt),\n",
    "                 horizontalalignment=\"center\",\n",
    "                 color=\"red\" if cm[i, j] > thresh else \"black\")\n",
    "\n",
    "    plt.tight_layout()\n",
    "    plt.ylabel('True label')\n",
    "    plt.xlabel('Predicted label')\n",
    "\n",
    "# Compute confusion matrix\n",
    "cnf_matrix = confusion_matrix(y_test, y_prediction)\n",
    "np.set_printoptions(precision=2)\n",
    "\n",
    "# Plot non-normalized confusion matrix\n",
    "plt.figure()\n",
    "plot_confusion_matrix(cnf_matrix, classes=['Defualt', 'Non_default'],\n",
    "                      title='Confusion matrix, without normalization')\n",
    "\n",
    "# Plot normalized confusion matrix\n",
    "plt.figure()\n",
    "plot_confusion_matrix(cnf_matrix, classes=['Defualt', 'Non_default'], normalize=True,\n",
    "                      title='Normalized confusion matrix')\n",
    "\n",
    "plt.show()"
   ]
  },
  {
   "cell_type": "code",
   "execution_count": null,
   "metadata": {
    "collapsed": true
   },
   "outputs": [],
   "source": []
  }
 ],
 "metadata": {
  "kernelspec": {
   "display_name": "Python 3",
   "language": "python",
   "name": "python3"
  },
  "language_info": {
   "codemirror_mode": {
    "name": "ipython",
    "version": 3
   },
   "file_extension": ".py",
   "mimetype": "text/x-python",
   "name": "python",
   "nbconvert_exporter": "python",
   "pygments_lexer": "ipython3",
   "version": "3.6.3"
  }
 },
 "nbformat": 4,
 "nbformat_minor": 2
}
